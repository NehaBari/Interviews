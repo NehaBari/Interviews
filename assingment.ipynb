{
 "cells": [
  {
   "cell_type": "code",
   "execution_count": 1,
   "id": "9730b222-0815-443e-a7e9-302b004e6834",
   "metadata": {},
   "outputs": [],
   "source": [
    "import pandas as pd\n",
    "import re\n",
    "import numpy as np\n",
    "import matplotlib.pyplot as plt\n",
    "import seaborn as sns\n",
    "\n",
    "#\n",
    "from sklearn.base import TransformerMixin, BaseEstimator\n",
    "from sklearn.pipeline import Pipeline\n",
    "from sklearn.compose import ColumnTransformer\n",
    "from sklearn.model_selection import RandomizedSearchCV\n",
    "import numpy as np\n",
    "from xgboost import XGBRegressor\n",
    "from sklearn.ensemble import RandomForestRegressor\n",
    "from sklearn.linear_model import SGDRegressor, RidgeCV, LassoCV\n",
    "from sklearn.metrics import mean_squared_log_error, r2_score, make_scorer\n",
    "from sklearn.model_selection import learning_curve"
   ]
  },
  {
   "cell_type": "code",
   "execution_count": 2,
   "id": "856685d0-8c98-4316-9f63-ea71d774813f",
   "metadata": {},
   "outputs": [],
   "source": [
    "train = pd.read_csv('training.csv', parse_dates=['transaction_date'])\n",
    "card_group = pd.read_csv('mcc_group_definition.csv')\n",
    "transaction = pd.read_csv('transaction_types.csv')\n"
   ]
  },
  {
   "cell_type": "code",
   "execution_count": 5,
   "id": "aba1d0c7-df96-4a08-967c-4e824b33a207",
   "metadata": {},
   "outputs": [],
   "source": [
    "train2 = train.merge(card_group, on='mcc_group', how='left').drop('mcc_group', axis=1)\n",
    "# dropping the unnecessary columns\n",
    "train2 = train2.drop(['dataset_transaction','dataset_user'], axis=1)\n",
    "# performing left join (just like sql) and then dropping mcc group. \n",
    "# well you can really drop all the unncecessarry groups even at the end\n",
    "# Do this as an insight at the end. When we see no links in the plots created!"
   ]
  },
  {
   "cell_type": "code",
   "execution_count": 6,
   "id": "f1407b6c-b889-4db7-92d3-f338ca6580f9",
   "metadata": {},
   "outputs": [],
   "source": [
    "# no trend can be observed\n",
    "#plt.plot(train2['transaction_date'],train2['amount_n26_currency'])"
   ]
  },
  {
   "cell_type": "code",
   "execution_count": 17,
   "id": "32770fa0-ccc0-4c0e-957e-e8d9888129ef",
   "metadata": {},
   "outputs": [],
   "source": [
    "train2 = (train2.merge(transaction, left_on='transaction_type', right_on='type', suffixes=('_card', '_transaction'))\n",
    "           .drop(['type','transaction_type'], axis=1))\n",
    "# merging the transaction type with respect to the type from the train dataframe. That is why we do not have NAN. Since we only merged MCC group we have NAN \n",
    "# a string indicating the suffix to add to overlapping column names in left and right respectively.In this case explanation. Since we do want \n",
    "# train2 and transaction does not have any common columns so we are selectively applying and testing columns\n",
    "# change the name od _card suffix to _train to better understand what is exactly referred to."
   ]
  },
  {
   "cell_type": "code",
   "execution_count": 18,
   "id": "c9894277-3c64-422c-acdb-ead07da5a2c0",
   "metadata": {},
   "outputs": [
    {
     "data": {
      "text/html": [
       "<div>\n",
       "<style scoped>\n",
       "    .dataframe tbody tr th:only-of-type {\n",
       "        vertical-align: middle;\n",
       "    }\n",
       "\n",
       "    .dataframe tbody tr th {\n",
       "        vertical-align: top;\n",
       "    }\n",
       "\n",
       "    .dataframe thead th {\n",
       "        text-align: right;\n",
       "    }\n",
       "</style>\n",
       "<table border=\"1\" class=\"dataframe\">\n",
       "  <thead>\n",
       "    <tr style=\"text-align: right;\">\n",
       "      <th></th>\n",
       "      <th>user_id</th>\n",
       "      <th>transaction_date</th>\n",
       "      <th>amount_n26_currency</th>\n",
       "      <th>explanation_card</th>\n",
       "      <th>explanation_transaction</th>\n",
       "      <th>direction</th>\n",
       "      <th>agent</th>\n",
       "    </tr>\n",
       "  </thead>\n",
       "  <tbody>\n",
       "    <tr>\n",
       "      <th>0</th>\n",
       "      <td>a78884f5e76951188c1e719d4956773a</td>\n",
       "      <td>2016-02-01</td>\n",
       "      <td>350</td>\n",
       "      <td>NaN</td>\n",
       "      <td>Debit Transfer</td>\n",
       "      <td>Out</td>\n",
       "      <td>Bank Account</td>\n",
       "    </tr>\n",
       "    <tr>\n",
       "      <th>1</th>\n",
       "      <td>b0333294fef6ff1299102a70ad46b126</td>\n",
       "      <td>2016-02-01</td>\n",
       "      <td>202</td>\n",
       "      <td>NaN</td>\n",
       "      <td>Debit Transfer</td>\n",
       "      <td>Out</td>\n",
       "      <td>Bank Account</td>\n",
       "    </tr>\n",
       "    <tr>\n",
       "      <th>2</th>\n",
       "      <td>7b8d2a2780adae0cd0c248e92c1b28dc</td>\n",
       "      <td>2016-02-01</td>\n",
       "      <td>291</td>\n",
       "      <td>NaN</td>\n",
       "      <td>Debit Transfer</td>\n",
       "      <td>Out</td>\n",
       "      <td>Bank Account</td>\n",
       "    </tr>\n",
       "    <tr>\n",
       "      <th>3</th>\n",
       "      <td>cc4abaa500f7db4390ae3f02bd36d805</td>\n",
       "      <td>2016-02-01</td>\n",
       "      <td>214</td>\n",
       "      <td>NaN</td>\n",
       "      <td>Debit Transfer</td>\n",
       "      <td>Out</td>\n",
       "      <td>Bank Account</td>\n",
       "    </tr>\n",
       "    <tr>\n",
       "      <th>4</th>\n",
       "      <td>49b99d1d5ba028566639e8b3eb7c055b</td>\n",
       "      <td>2016-02-01</td>\n",
       "      <td>272</td>\n",
       "      <td>NaN</td>\n",
       "      <td>Debit Transfer</td>\n",
       "      <td>Out</td>\n",
       "      <td>Bank Account</td>\n",
       "    </tr>\n",
       "    <tr>\n",
       "      <th>...</th>\n",
       "      <td>...</td>\n",
       "      <td>...</td>\n",
       "      <td>...</td>\n",
       "      <td>...</td>\n",
       "      <td>...</td>\n",
       "      <td>...</td>\n",
       "      <td>...</td>\n",
       "    </tr>\n",
       "    <tr>\n",
       "      <th>408541</th>\n",
       "      <td>67b86e1168dfe526708ea275ac0a71a8</td>\n",
       "      <td>2016-07-29</td>\n",
       "      <td>11</td>\n",
       "      <td>NaN</td>\n",
       "      <td>Transferwise Transaction</td>\n",
       "      <td>Out</td>\n",
       "      <td>Partner</td>\n",
       "    </tr>\n",
       "    <tr>\n",
       "      <th>408542</th>\n",
       "      <td>fff08c7a5cfb93b873149159be9f7976</td>\n",
       "      <td>2016-07-29</td>\n",
       "      <td>40</td>\n",
       "      <td>NaN</td>\n",
       "      <td>Transferwise Transaction</td>\n",
       "      <td>Out</td>\n",
       "      <td>Partner</td>\n",
       "    </tr>\n",
       "    <tr>\n",
       "      <th>408543</th>\n",
       "      <td>2018aea439dab366b6ddf6f4df704342</td>\n",
       "      <td>2016-07-29</td>\n",
       "      <td>185</td>\n",
       "      <td>NaN</td>\n",
       "      <td>Transferwise Transaction</td>\n",
       "      <td>Out</td>\n",
       "      <td>Partner</td>\n",
       "    </tr>\n",
       "    <tr>\n",
       "      <th>408544</th>\n",
       "      <td>406b16e6a28b54c935763b6598bfa272</td>\n",
       "      <td>2016-07-30</td>\n",
       "      <td>71</td>\n",
       "      <td>NaN</td>\n",
       "      <td>Transferwise Transaction</td>\n",
       "      <td>Out</td>\n",
       "      <td>Partner</td>\n",
       "    </tr>\n",
       "    <tr>\n",
       "      <th>408545</th>\n",
       "      <td>154efca0869f83da799aa145731b2b5b</td>\n",
       "      <td>2016-07-31</td>\n",
       "      <td>11</td>\n",
       "      <td>NaN</td>\n",
       "      <td>Transferwise Transaction</td>\n",
       "      <td>Out</td>\n",
       "      <td>Partner</td>\n",
       "    </tr>\n",
       "  </tbody>\n",
       "</table>\n",
       "<p>408546 rows × 7 columns</p>\n",
       "</div>"
      ],
      "text/plain": [
       "                                 user_id transaction_date  \\\n",
       "0       a78884f5e76951188c1e719d4956773a       2016-02-01   \n",
       "1       b0333294fef6ff1299102a70ad46b126       2016-02-01   \n",
       "2       7b8d2a2780adae0cd0c248e92c1b28dc       2016-02-01   \n",
       "3       cc4abaa500f7db4390ae3f02bd36d805       2016-02-01   \n",
       "4       49b99d1d5ba028566639e8b3eb7c055b       2016-02-01   \n",
       "...                                  ...              ...   \n",
       "408541  67b86e1168dfe526708ea275ac0a71a8       2016-07-29   \n",
       "408542  fff08c7a5cfb93b873149159be9f7976       2016-07-29   \n",
       "408543  2018aea439dab366b6ddf6f4df704342       2016-07-29   \n",
       "408544  406b16e6a28b54c935763b6598bfa272       2016-07-30   \n",
       "408545  154efca0869f83da799aa145731b2b5b       2016-07-31   \n",
       "\n",
       "        amount_n26_currency explanation_card   explanation_transaction  \\\n",
       "0                       350              NaN            Debit Transfer   \n",
       "1                       202              NaN            Debit Transfer   \n",
       "2                       291              NaN            Debit Transfer   \n",
       "3                       214              NaN            Debit Transfer   \n",
       "4                       272              NaN            Debit Transfer   \n",
       "...                     ...              ...                       ...   \n",
       "408541                   11              NaN  Transferwise Transaction   \n",
       "408542                   40              NaN  Transferwise Transaction   \n",
       "408543                  185              NaN  Transferwise Transaction   \n",
       "408544                   71              NaN  Transferwise Transaction   \n",
       "408545                   11              NaN  Transferwise Transaction   \n",
       "\n",
       "       direction         agent  \n",
       "0            Out  Bank Account  \n",
       "1            Out  Bank Account  \n",
       "2            Out  Bank Account  \n",
       "3            Out  Bank Account  \n",
       "4            Out  Bank Account  \n",
       "...          ...           ...  \n",
       "408541       Out       Partner  \n",
       "408542       Out       Partner  \n",
       "408543       Out       Partner  \n",
       "408544       Out       Partner  \n",
       "408545       Out       Partner  \n",
       "\n",
       "[408546 rows x 7 columns]"
      ]
     },
     "execution_count": 18,
     "metadata": {},
     "output_type": "execute_result"
    }
   ],
   "source": [
    "train2"
   ]
  },
  {
   "cell_type": "code",
   "execution_count": 29,
   "id": "44b5179d-a5c9-4a08-9b82-4791e133c357",
   "metadata": {},
   "outputs": [],
   "source": [
    "def plot_bar(feature):\n",
    "    #plt.plot(feature.to_numpy(), train2[feature].value_counts().index)\n",
    "    g = sns.catplot(x=feature, \n",
    "                    data=train2,\n",
    "                    order = train2[feature].value_counts().index,\n",
    "                    kind='count')\n",
    "    g.set_xticklabels(rotation=90)\n"
   ]
  },
  {
   "cell_type": "code",
   "execution_count": null,
   "id": "07829694-67cf-482b-8746-28da99f9f119",
   "metadata": {},
   "outputs": [],
   "source": [
    "def weekly_popularity_trend(feature, **kwargs):\n",
    "    \"\"\"\n",
    "    Feature popularity on weekly basis\n",
    "    \"\"\"\n",
    "    f = train2.groupby([feature, pd.Grouper(key='transaction_date',freq='W')]).size().reset_index()\n",
    "    # what does size.reset index do!\n",
    "    f.columns = [feature,'transaction_date','count']\n",
    "    f[\"transaction_date\"] = pd.to_datetime(f[\"transaction_date\"])\n",
    "    sns.catplot(x=\"transaction_date\", \n",
    "            y = 'count',\n",
    "            hue = feature, \n",
    "            data=f, \n",
    "            kind='point', \n",
    "            height=7, \n",
    "            aspect= 2,\n",
    "            palette='Paired')\n",
    "    _ = plt.xticks(rotation=90)\n",
    "    \n",
    "    "
   ]
  },
  {
   "cell_type": "code",
   "execution_count": null,
   "id": "e74de4bc-1641-4291-b8ae-2b7a9fae23bd",
   "metadata": {},
   "outputs": [],
   "source": [
    "weekly_popularity_trend('direction')\n",
    "# assign colours as the atm has the same coloir"
   ]
  },
  {
   "cell_type": "code",
   "execution_count": 30,
   "id": "2e5018d5-ccdc-4f87-af72-1fb596f0bb30",
   "metadata": {},
   "outputs": [
    {
     "data": {
      "image/png": "[encoded data removed]",
      "text/plain": [
       "<Figure size 360x360 with 1 Axes>"
      ]
     },
     "metadata": {
      "needs_background": "light"
     },
     "output_type": "display_data"
    }
   ],
   "source": [
    "plot_bar('explanation_transaction')\n",
    "# a bar plot way of explaining that ATM is the most popular way of taking out money aka expenses"
   ]
  },
  {
   "cell_type": "code",
   "execution_count": 31,
   "id": "217915f9-97b1-4dcc-9cdd-736694a66b30",
   "metadata": {},
   "outputs": [
    {
     "data": {
      "image/png": "[encoded data removed]",
      "text/plain": [
       "<Figure size 360x360 with 1 Axes>"
      ]
     },
     "metadata": {
      "needs_background": "light"
     },
     "output_type": "display_data"
    }
   ],
   "source": [
    "plot_bar('explanation_card')\n"
   ]
  },
  {
   "cell_type": "code",
   "execution_count": 32,
   "id": "d91c23eb-5fb4-4b9c-9e8c-7bd5a1d8cd95",
   "metadata": {},
   "outputs": [
    {
     "data": {
      "image/png": "[encoded data removed]",
      "text/plain": [
       "<Figure size 360x360 with 1 Axes>"
      ]
     },
     "metadata": {
      "needs_background": "light"
     },
     "output_type": "display_data"
    }
   ],
   "source": [
    "plot_bar('agent')\n",
    "# write the insights received from this dataset"
   ]
  },
  {
   "cell_type": "code",
   "execution_count": null,
   "id": "255cb3d0-8251-497f-9508-f85779174c4c",
   "metadata": {},
   "outputs": [],
   "source": []
  },
  {
   "cell_type": "code",
   "execution_count": 35,
   "id": "19901a17-45f1-4bbe-893d-acf02ae9ce13",
   "metadata": {},
   "outputs": [
    {
     "data": {
      "text/plain": [
       "array(['Bank Account', 'Card', 'Partner'], dtype=object)"
      ]
     },
     "execution_count": 35,
     "metadata": {},
     "output_type": "execute_result"
    }
   ],
   "source": [
    "train2['agent'].unique()"
   ]
  },
  {
   "cell_type": "code",
   "execution_count": null,
   "id": "2781a877-5d58-4a9c-b7b8-d1bc8b1a8fae",
   "metadata": {},
   "outputs": [],
   "source": [
    "# Segregating the data as per the direction \n",
    "in_data = train2.query(\"direction == 'In'\").drop(['direction','explanation_card','explanation_transaction','agent'], axis=1)\n",
    "out_data = train2.query(\"direction == 'Out'\").drop(['direction','explanation_card','explanation_transaction','agent'], axis=1)"
   ]
  },
  {
   "cell_type": "code",
   "execution_count": null,
   "id": "039c5e6e-5118-473d-a001-68087eae95e5",
   "metadata": {},
   "outputs": [],
   "source": [
    "\n",
    "class DateEncoder(TransformerMixin, BaseEstimator):\n",
    "    \n",
    "    \"\"\"\n",
    "    Create date features in the pipeline.\n",
    "    \"\"\"\n",
    "    \n",
    "    def fit(self, X, y=None):\n",
    "        return self\n",
    "    \n",
    "\n",
    "    def transform(self, X, y=None):\n",
    "        if isinstance(X, pd.DataFrame):\n",
    "            \n",
    "            col = 'transaction_date'\n",
    "            # day of the week so 0 - 6\n",
    "            X[f\"{col}_weekday\"] = X[col].dt.dayofweek\n",
    "            # weeks so 0 to last week of the year\n",
    "            X[f\"{col}_week\"] = X[col].dt.week\n",
    "            # 0 to 30th day of the week\n",
    "            X[f\"{col}_day_week\"] = X[col].dt.day\n",
    "            \n",
    "            self.names = X[[x for x in X.columns if '_week' in x]].columns.tolist()\n",
    "            return X[[x for x in X.columns if '_week' in x]].values\n",
    "        else:\n",
    "            raise Exception(\"Only supported for pd.DataFrame\")\n",
    "    \n",
    "    def get_feature_names(self):\n",
    "        return self.names\n",
    "    \n",
    "    \n",
    "class MakeTSFeatures(TransformerMixin, BaseEstimator):\n",
    "    \n",
    "    \"\"\"\n",
    "    Created aggregate lag features in the pipeline. \n",
    "    \"\"\"\n",
    "    \n",
    "    def fit(self, X, y=None):\n",
    "        return self\n",
    "    \n",
    "    \n",
    "    def transform(self, X, y=None):\n",
    "        if isinstance(X, pd.DataFrame):\n",
    "            \n",
    "            lags = [1,2,7]\n",
    "            for lag in lags:\n",
    "                # lag feature\n",
    "                # this previous lag mean is ok if removed. At most it only tells about how much previous lag is present\n",
    "                X[f'prev_lag_mean_{lag}'] = X.groupby(['user_id'])['amount_n26_currency'].shift(lag).fillna(0)\n",
    "                # rolling average\n",
    "                X[f'prev_lag_rolling_mean_{lag}'] = X.groupby(['user_id'])['amount_n26_currency'].shift(lag).rolling(2).mean().fillna(0)\n",
    "                X[f'prev_lag_rolling_std_{lag}'] = X.groupby(['user_id'])['amount_n26_currency'].shift(lag).rolling(2).std().fillna(0)\n",
    "                # cumulative average\n",
    "                X[f'prev_lag_expand_mean_{lag}'] = X.groupby(['user_id'])['amount_n26_currency'].shift(lag).expanding().mean().fillna(0)\n",
    "                X[f'prev_lag_expand_std_{lag}'] = X.groupby(['user_id'])['amount_n26_currency'].shift(lag).expanding().std().fillna(0)\n",
    "\n",
    "                # exponential moving average\n",
    "                X[f'prev_lag_ewm_mean_{lag}'] = X.groupby(['user_id'])['amount_n26_currency'].shift(lag).ewm(0.1).mean().fillna(0)\n",
    "                X[f'prev_lag_ewm_std_{lag}'] = X.groupby(['user_id'])['amount_n26_currency'].shift(lag).ewm(0.1).std().fillna(0)\n",
    "                # calculating the std of each\n",
    "                \n",
    "            self.names = X[[x for x in X.columns if 'prev_' in x]].columns.tolist()\n",
    "            return X[[x for x in X.columns if 'prev_' in x]].values\n",
    "        else:\n",
    "            raise Exception(\"Only supported for pd.DataFrame\")\n",
    "    \n",
    "    def get_feature_names(self):\n",
    "        return self.names"
   ]
  },
  {
   "cell_type": "code",
   "execution_count": null,
   "id": "801c8042-c1d0-4528-85cb-0a94f6c476ca",
   "metadata": {},
   "outputs": [],
   "source": [
    "def generate_pipeline(**kwargs):\n",
    "    \n",
    "    features = ColumnTransformer(\n",
    "        [('date_features',DateEncoder(), ['transaction_date']),\n",
    "         ('time_series_features', MakeTSFeatures(), ['user_id','amount_n26_currency'])        \n",
    "        ]\n",
    "    )\n",
    "    print(features)\n",
    "    \n",
    "    clf = XGBRegressor(n_estimators=100, random_state=42, booster='gbtree')\n",
    "        \n",
    "    model = Pipeline([\n",
    "    ('features', features),\n",
    "    # ('clf', clf)\n",
    "]) \n",
    "    return model\n",
    "\n",
    "params_xgb = {\n",
    "\n",
    "     'clf__max_depth': (3,5,10,20),\n",
    "     'clf__learning_rate': (0.1,0.01,0.05, 0.2),\n",
    "     'clf__subsample': (.5,.7,.8,.9), \n",
    "     'clf__colsample_bytree': (.5,.7,.8,.9),\n",
    "\n",
    "}"
   ]
  },
  {
   "cell_type": "code",
   "execution_count": null,
   "id": "f2aa3fc7-7ef9-48f0-980b-4e18ae1dfa47",
   "metadata": {},
   "outputs": [],
   "source": [
    " model = generate_pipeline()\n"
   ]
  },
  {
   "cell_type": "code",
   "execution_count": null,
   "id": "3519fe6d-05cc-487b-8271-dd73b4dfbc5a",
   "metadata": {},
   "outputs": [],
   "source": [
    "#ahh so the user ids are repeated as they make more and more transactions"
   ]
  },
  {
   "cell_type": "code",
   "execution_count": null,
   "id": "0e01f63e-bf2a-44d6-a83d-37d30af55581",
   "metadata": {},
   "outputs": [],
   "source": [
    "# split data set \n",
    "train = in_data[in_data['transaction_date'].dt.month < 7].reset_index(drop=True) # from feb to june\n",
    "test = in_data[in_data['transaction_date'].dt.month == 7].reset_index(drop=True) # test july\n",
    "\n",
    "y_train = np.log1p(train['amount_n26_currency'])"
   ]
  },
  {
   "cell_type": "code",
   "execution_count": null,
   "id": "426aceb0-31d3-4216-ac49-3c9e175b15f7",
   "metadata": {},
   "outputs": [],
   "source": [
    "# # \n",
    "\n",
    "# def test_stationarity(timeseries, title):\n",
    "    \n",
    "#     #Determing rolling statistics\n",
    "\n",
    "#     rolmean = timeseries.groupby(['user_id'])['amount_n26_currency'].rolling(window=12).mean().fillna(0)\n",
    "#     rolstd = timeseries.groupby(['user_id'])['amount_n26_currency'].rolling(window=12).std().fillna(0)\n",
    "#     fig, ax = plt.subplots(figsize=(16, 4))\n",
    "#     ax.plot(range(len(timeseries['amount_n26_currency'])), timeseries['amount_n26_currency'], label= title)\n",
    "#     ax.scatter(range(len(rolmean)),rolmean.to_numpy(), label='rolling mean',color='yellow');\n",
    "#     ax.plot(rolstd.to_numpy(), label='rolling std (x10)');\n",
    "#     ax.legend()"
   ]
  },
  {
   "cell_type": "code",
   "execution_count": null,
   "id": "fd1f8ab8-c9a5-44a0-bcfc-5d32eca3c23d",
   "metadata": {},
   "outputs": [],
   "source": [
    "#  test_stationarity(train,'raw data')"
   ]
  },
  {
   "cell_type": "code",
   "execution_count": null,
   "id": "459889ee-a483-4e26-b949-f0255de54356",
   "metadata": {},
   "outputs": [],
   "source": [
    "# fit the pipeline\n",
    "model.fit(train)\n",
    "\n",
    "# initialise the model and fit\n",
    "xgb = XGBRegressor(booster='gbtree', random_state=42)\n",
    "xgb.fit(model.transform(train), y_train)"
   ]
  },
  {
   "cell_type": "code",
   "execution_count": null,
   "id": "5e7c41be-ef72-41c4-9770-3b56a8ae1b44",
   "metadata": {},
   "outputs": [],
   "source": []
  },
  {
   "cell_type": "code",
   "execution_count": null,
   "id": "8fed4f8a-be79-4490-b63f-a983fae4e017",
   "metadata": {},
   "outputs": [],
   "source": [
    "plt.bar(train['transaction_date'],train['amount_n26_currency'])"
   ]
  },
  {
   "cell_type": "code",
   "execution_count": null,
   "id": "4a7b6367-2ead-45a8-9fff-d8200bb6acd0",
   "metadata": {},
   "outputs": [],
   "source": [
    "y_pred = xgb.predict(model.transform(test))\n"
   ]
  },
  {
   "cell_type": "code",
   "execution_count": null,
   "id": "dbe833d8-9af3-4414-ad22-87fc1ee3cfd5",
   "metadata": {},
   "outputs": [],
   "source": [
    "baseline_model_predictions = [test['amount_n26_currency'].mean()]* test.shape[0]\n"
   ]
  },
  {
   "cell_type": "code",
   "execution_count": null,
   "id": "6d516c1e-0f51-4e6d-a8fa-8d0c15512a0d",
   "metadata": {},
   "outputs": [],
   "source": [
    "rmsle = np.sqrt(mean_squared_log_error(test['amount_n26_currency'], baseline_model_predictions))\n"
   ]
  },
  {
   "cell_type": "code",
   "execution_count": null,
   "id": "814ca88f-8417-4eb0-967c-45299fc120e0",
   "metadata": {},
   "outputs": [],
   "source": [
    "print(rmsle)\n"
   ]
  },
  {
   "cell_type": "code",
   "execution_count": null,
   "id": "de0b3562-89c8-45a2-b1bb-8b268936e27e",
   "metadata": {},
   "outputs": [],
   "source": [
    "rmsle_score = np.sqrt(mean_squared_log_error(test['amount_n26_currency'], np.exp(y_pred)))\n"
   ]
  },
  {
   "cell_type": "code",
   "execution_count": null,
   "id": "e10e8223-74f5-40d4-9842-5ee0ee9ac619",
   "metadata": {},
   "outputs": [],
   "source": [
    "print(f\"rmsle score: {rmsle_score}\")\n",
    "# lower rmsle score is equal to better performance"
   ]
  },
  {
   "cell_type": "code",
   "execution_count": null,
   "id": "9c3ff1dc-121a-4205-bb42-99d48c86b5ea",
   "metadata": {},
   "outputs": [],
   "source": [
    "predictions = pd.DataFrame({'y_true': test['amount_n26_currency'], 'y_pred': np.exp(y_pred)})\n",
    "\n",
    "plt.figure(figsize=(16,6))\n",
    "# sns.stripplot(predictions['y_pred'],data=predictions,label='pred',color='yellow')\n",
    "# sns.stripplot(predictions['y_true'],data=predictions,label='true',color='green')\n",
    "\n",
    "plt.scatter(range(predictions.shape[0]), predictions['y_pred'], label='pred', linestyle='dashed',)\n",
    "plt.scatter(range(predictions.shape[0]), predictions['y_true'], label='true', linestyle='dashed',alpha=0.4)\n",
    "plt.ylabel('amount n26 currency')\n",
    "plt.legend();"
   ]
  },
  {
   "cell_type": "code",
   "execution_count": null,
   "id": "2590af63-f73c-4699-9af5-87dacb821e82",
   "metadata": {},
   "outputs": [],
   "source": [
    "# plot feature importance\n",
    "# search.best_estimator_.named_steps\n",
    "feature_names = (model.named_steps['features'].named_transformers_['date_features'].get_feature_names() + \n",
    "                model.named_steps['features'].named_transformers_['time_series_features'].get_feature_names())\n",
    "\n",
    "feature_imp = pd.DataFrame(sorted(zip(xgb.feature_importances_ ,feature_names)), columns=['Value','Feature'])\n",
    "\n",
    "plt.figure(figsize=(20, 30))\n",
    "sns.barplot(x=\"Value\", y=\"Feature\", data=feature_imp.sort_values(by=\"Value\", ascending=False))\n",
    "plt.scatter(feature_imp['Value'].sort_values(ascending=False),feature_imp['Feature'])\n",
    "\n",
    "\n",
    "#plt.bar(range(len(xgb.feature_importances_)), xgb.feature_importances_)\n",
    "plt.show()\n",
    "\n",
    "# plt.title('XGB Features')\n",
    "# plt.show()"
   ]
  },
  {
   "cell_type": "code",
   "execution_count": null,
   "id": "d1acb6f5-15ef-41f1-bdaa-bfe2cd0d102c",
   "metadata": {},
   "outputs": [],
   "source": []
  },
  {
   "cell_type": "code",
   "execution_count": null,
   "id": "bc25bef9-6e20-478d-bd20-adef4bfb0254",
   "metadata": {},
   "outputs": [],
   "source": []
  },
  {
   "cell_type": "code",
   "execution_count": null,
   "id": "a597a3fd-60d4-4efc-80fd-7525472cb657",
   "metadata": {},
   "outputs": [],
   "source": []
  }
 ],
 "metadata": {
  "kernelspec": {
   "display_name": "Python 3",
   "language": "python",
   "name": "python3"
  },
  "language_info": {
   "codemirror_mode": {
    "name": "ipython",
    "version": 3
   },
   "file_extension": ".py",
   "mimetype": "text/x-python",
   "name": "python",
   "nbconvert_exporter": "python",
   "pygments_lexer": "ipython3",
   "version": "3.8.10"
  }
 },
 "nbformat": 4,
 "nbformat_minor": 5
}
