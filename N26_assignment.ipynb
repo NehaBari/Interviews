{
 "cells": [
  {
   "cell_type": "code",
   "execution_count": 1,
   "id": "f96f53e2-00cc-4b47-b7f4-9c67e4228664",
   "metadata": {},
   "outputs": [],
   "source": [
    "import pandas as pd\n",
    "import re\n",
    "import seaborn as sns\n",
    "import matplotlib.pyplot as plt\n",
    "%matplotlib inline\n",
    "from IPython.display import display\n",
    "import numpy as np\n",
    "from sklearn.base import TransformerMixin, BaseEstimator\n",
    "from sklearn.pipeline import Pipeline\n",
    "from sklearn.compose import ColumnTransformer\n",
    "from sklearn.model_selection import RandomizedSearchCV\n",
    "from xgboost import XGBRegressor\n",
    "from sklearn.ensemble import RandomForestRegressor\n",
    "from sklearn.linear_model import SGDRegressor, RidgeCV, LassoCV\n",
    "from sklearn.metrics import mean_squared_log_error, r2_score, make_scorer\n",
    "from sklearn.model_selection import learning_curve\n",
    "from scipy.stats import norm"
   ]
  },
  {
   "cell_type": "code",
   "execution_count": 2,
   "id": "a93138d7-6688-4c53-b58c-a437f7de5cf8",
   "metadata": {},
   "outputs": [],
   "source": [
    "train = pd.read_csv('training.csv', parse_dates=['transaction_date'])\n",
    "card_group = pd.read_csv('mcc_group_definition.csv')\n",
    "transaction = pd.read_csv('transaction_types.csv')\n"
   ]
  },
  {
   "cell_type": "code",
   "execution_count": 3,
   "id": "9e5d395a-20ed-410e-b5d3-18ce21f148a0",
   "metadata": {},
   "outputs": [],
   "source": [
    "train = train.drop(['dataset_transaction','dataset_user'], axis=1)\n"
   ]
  },
  {
   "cell_type": "code",
   "execution_count": 4,
   "id": "988a86e9-179c-4f24-9af1-0f69f1d88236",
   "metadata": {},
   "outputs": [],
   "source": [
    "# merge data\n",
    "train2 = train.merge(card_group, on='mcc_group', how='left').drop('mcc_group', axis=1)\n",
    "\n",
    "train2 = (train2\n",
    "          .merge(transaction, left_on='transaction_type', right_on='type', suffixes=('_card', '_transaction'))\n",
    "          .drop(['type','transaction_type'], axis=1))\n"
   ]
  },
  {
   "cell_type": "code",
   "execution_count": 5,
   "id": "e822d5a8-4ff6-47fd-80da-77a5fd084014",
   "metadata": {},
   "outputs": [
    {
     "data": {
      "text/plain": [
       "1166"
      ]
     },
     "execution_count": 5,
     "metadata": {},
     "output_type": "execute_result"
    }
   ],
   "source": [
    "train2.amount_n26_currency.max()"
   ]
  },
  {
   "cell_type": "code",
   "execution_count": 6,
   "id": "5473deaf-1aac-40dd-af66-d43f3b4a98d8",
   "metadata": {},
   "outputs": [
    {
     "data": {
      "image/png": "[encoded data removed]",
      "text/plain": [
       "<Figure size 432x288 with 1 Axes>"
      ]
     },
     "metadata": {
      "needs_background": "light"
     },
     "output_type": "display_data"
    }
   ],
   "source": [
    "\n",
    "plt.hist(train2.amount_n26_currency, bins=50,rwidth=0.8,density=True)\n",
    "# plt.show()\n",
    "rng = np.arange(train2.amount_n26_currency.min(), train2.amount_n26_currency.max(), 0.1)\n",
    "plt.plot(rng,norm.pdf(rng,train2.amount_n26_currency.mean(),train2.amount_n26_currency.std()))\n",
    "plt.xlabel('amount_n26_currency')\n",
    "plt.ylabel('')\n",
    "plt.show()"
   ]
  },
  {
   "cell_type": "code",
   "execution_count": 7,
   "id": "73385572-415e-4f67-83f5-699c22755afe",
   "metadata": {},
   "outputs": [],
   "source": [
    "# from scipy.stats import skew, kurtosis\n",
    "# skew(train2['amount_n26_currency'].dropna())\n",
    "log_amont = np.log(train2.amount_n26_currency)\n"
   ]
  },
  {
   "cell_type": "code",
   "execution_count": 8,
   "id": "664fbbbb-153e-4728-a392-688cc61a1984",
   "metadata": {},
   "outputs": [
    {
     "data": {
      "text/plain": [
       "0.8352641610723656"
      ]
     },
     "execution_count": 8,
     "metadata": {},
     "output_type": "execute_result"
    }
   ],
   "source": [
    "log_amont.skew()"
   ]
  },
  {
   "cell_type": "code",
   "execution_count": 9,
   "id": "fc90627c-7e2e-4323-b135-985d15b000a5",
   "metadata": {},
   "outputs": [
    {
     "data": {
      "image/png": "[encoded data removed]",
      "text/plain": [
       "<Figure size 432x288 with 1 Axes>"
      ]
     },
     "metadata": {
      "needs_background": "light"
     },
     "output_type": "display_data"
    }
   ],
   "source": [
    "\n",
    "plt.hist(log_amont, bins=100,rwidth=0.8,density=True)\n",
    "# plt.show()\n",
    "rng = np.arange(log_amont.min(), log_amont.max(), 0.1)\n",
    "plt.plot(rng,norm.pdf(rng,log_amont.mean(),log_amont.std()))\n",
    "plt.xlabel('amount_n26_currency')\n",
    "plt.ylabel('')\n",
    "plt.show()"
   ]
  },
  {
   "cell_type": "code",
   "execution_count": null,
   "id": "be017d90-1d0a-4939-954e-f75139a04197",
   "metadata": {},
   "outputs": [],
   "source": [
    "train2.mean()"
   ]
  },
  {
   "cell_type": "code",
   "execution_count": null,
   "id": "c2049f76-f4fb-48e0-8e24-db5774778944",
   "metadata": {},
   "outputs": [],
   "source": [
    "train2.amount_n26_currency.max()"
   ]
  },
  {
   "cell_type": "code",
   "execution_count": null,
   "id": "e18dbe30-a378-4507-a3c4-451e0616c1be",
   "metadata": {},
   "outputs": [],
   "source": [
    "train2.amount_n26_currency.std()"
   ]
  },
  {
   "cell_type": "code",
   "execution_count": null,
   "id": "b11cd383-1ce7-4683-8a19-182405ca1db0",
   "metadata": {},
   "outputs": [],
   "source": [
    "upper_limit = train2.amount_n26_currency.mean() + 4*train2.amount_n26_currency.std()\n",
    "upper_limit\n",
    "# any salary more than upper limit is an outlier"
   ]
  },
  {
   "cell_type": "code",
   "execution_count": null,
   "id": "36e68a1f-8b16-4a18-bd9c-48e12b3b7a78",
   "metadata": {},
   "outputs": [],
   "source": [
    "\n"
   ]
  },
  {
   "cell_type": "code",
   "execution_count": null,
   "id": "44c5a9a6-41bb-4f82-8030-b8eb499e0694",
   "metadata": {},
   "outputs": [],
   "source": [
    "# aggregate the last 2 functions\n",
    "\n",
    "def plot_bar(feature):\n",
    "    g = sns.catplot(x=feature, \n",
    "                    data=train2,\n",
    "                    order = train2[feature].value_counts().index,\n",
    "                    kind='count', \n",
    "                    height=7, \n",
    "                    aspect = 3, \n",
    "                    palette=\"Paired\", \n",
    "                    edgecolor=\".6\")\n",
    "    g.set_xticklabels(rotation=90)\n",
    "\n",
    "def weekly_popularity_trend(feature):\n",
    "    \"\"\"\n",
    "    Feature popularity on weekly basis\n",
    "    \"\"\"\n",
    "    f = train2.groupby([feature, pd.Grouper(key='transaction_date',freq='W')]).size().reset_index()\n",
    "    f['transaction_date'] = f['transaction_date'].dt.date\n",
    "    f.columns = [feature,'transaction_date','count']\n",
    "    sns.catplot(x=\"transaction_date\", \n",
    "            y = 'count',\n",
    "            hue = feature, \n",
    "            data=f, \n",
    "            kind='point', \n",
    "            height=7, \n",
    "            aspect= 1,\n",
    "            palette='Paired')\n",
    "    _ = plt.xticks(rotation=90)\n",
    "    \n",
    "    \n",
    "def weekly_currency_trend(feature):\n",
    "    \"\"\"\n",
    "    Mean transaction amount on a weekly basis for a given feature\n",
    "    \"\"\"\n",
    "#     feature = kwargs.get('feature', None)\n",
    "    f = train2.groupby([*feature, pd.Grouper(key='transaction_date',freq='W')])['amount_n26_currency'].mean().reset_index()\n",
    "    f_std = train2.groupby([*feature, pd.Grouper(key='transaction_date',freq='W')])['amount_n26_currency'].std().reset_index()\n",
    "    f['transaction_date'] = f['transaction_date'].dt.date\n",
    "    \n",
    "    f_std['transaction_date'] = f_std['transaction_date'].dt.date\n",
    "    f.columns = [*feature,'transaction_date','mean']\n",
    "    f_std.columns = [*feature,'transaction_date','std']\n",
    "    \n",
    "    f_final = f.merge(f_std)\n",
    "    hue = feature[0]\n",
    "    \n",
    "    # correlating features or maybe not! \n",
    "    if feature[1]:\n",
    "        g = sns.catplot(x=\"transaction_date\", \n",
    "                y = 'mean',\n",
    "                hue = feature[0],\n",
    "                col = feature[1],\n",
    "                data=f, \n",
    "                kind='point', \n",
    "                height = 7,\n",
    "                aspect = 1.5,\n",
    "                palette=sns.color_palette(\"bright\", 10)\n",
    "                )\n",
    "        g.set_xticklabels(rotation=90)\n",
    "    else:\n",
    "        g = sns.catplot(x=\"transaction_date\", \n",
    "        y = 'mean',\n",
    "        hue = feature[0],\n",
    "        col = feature[1],\n",
    "        data=f, \n",
    "        kind='point', \n",
    "        height = 7,\n",
    "        aspect = 1.5,\n",
    "        palette=sns.color_palette(\"bright\", 10)\n",
    "        )\n",
    "        g.set_xticklabels(rotation=90)\n",
    "        autocorrelation_plot(f['mean'])\n",
    "#     x = np.arange(len(f['mean']))\n",
    "#   plt.errorbar(x,f_final['mean'],yerr=f_final['std'])\n"
   ]
  },
  {
   "cell_type": "code",
   "execution_count": null,
   "id": "e54faa07-bb41-4056-8f1b-c768428dce76",
   "metadata": {},
   "outputs": [],
   "source": []
  },
  {
   "cell_type": "code",
   "execution_count": null,
   "id": "b8c866be-2ee8-402d-ae1d-1f95a87bb8cb",
   "metadata": {},
   "outputs": [],
   "source": [
    "# does not make sense to make a error bar for the direction\n",
    "weekly_currency_trend(feature = ['explanation_transaction','direction'])\n",
    "\n"
   ]
  },
  {
   "cell_type": "code",
   "execution_count": null,
   "id": "eeb53b51-a419-4cd5-bbbd-45cfad389c59",
   "metadata": {},
   "outputs": [],
   "source": [
    "train2['agent'].unique()"
   ]
  },
  {
   "cell_type": "markdown",
   "id": "ed9abe44-d7cf-4368-8794-3c53ab2069e9",
   "metadata": {},
   "source": [
    "## seperating in and out data for income and expenses predictions respectively"
   ]
  },
  {
   "cell_type": "code",
   "execution_count": null,
   "id": "a04fb64a-d8f5-4b7c-9a50-2583d06279d2",
   "metadata": {},
   "outputs": [],
   "source": [
    "in_data, out_data= train2[(mask:=train2['direction'] == \"In\")], train2[~mask]\n",
    "in_data = in_data.drop(['direction','explanation_card','explanation_transaction','agent'], axis=1)\n",
    "out_data = out_data.drop(['direction','explanation_card','explanation_transaction','agent'], axis=1)"
   ]
  },
  {
   "cell_type": "code",
   "execution_count": null,
   "id": "3cefcc14-47c6-4a41-b583-e84548792a24",
   "metadata": {},
   "outputs": [],
   "source": [
    "class feature_engineering_datetime(TransformerMixin, BaseEstimator):\n",
    "    \n",
    "\n",
    "    def fit(self, X, y=None):\n",
    "        return self\n",
    "\n",
    "    def transform(self, X, y = None):\n",
    "        col = 'transaction_date'\n",
    "        X[f\"{'transaction_date'}_weekday\"] = X['transaction_date'].dt.dayofweek\n",
    "        X[f\"{'transaction_date'}_week\"] = X['transaction_date'].dt.isocalendar().week\n",
    "        X[f\"{'transaction_date'}_day_week\"] = X['transaction_date'].dt.day\n",
    "#         X[f\"{'transaction_date'}_week_year\"] = X['transaction_date'].dt.year\n",
    "        self.names = X[[x for x in X.columns if 'prev_' in x]].columns.tolist()\n",
    "        return X[(elem for elem in X.columns if '_week' in elem)].values\n",
    "    def feature_names(self):\n",
    "        return self.names"
   ]
  },
  {
   "cell_type": "code",
   "execution_count": null,
   "id": "119a65a8-62c1-4543-b934-8aee6c578cd0",
   "metadata": {},
   "outputs": [],
   "source": [
    "class feature_engineering(TransformerMixin, BaseEstimator):\n",
    "    \n",
    "\n",
    "    def fit(self, X, y=None):\n",
    "        return self\n",
    "\n",
    "    def transform(self, X, y = None):\n",
    "        #lags= [1,5,7,14]\n",
    "        lags= [5,7]\n",
    "        for lag in lags:\n",
    "            print('in timestamp of lags')\n",
    "        # lag feature\n",
    "        #A moving average is commonly used with time series data to smooth out short-term fluctuations and highlight longer-term trends or cycles.\n",
    "            X[f'prev_lag_mean_{lag}'] = X.groupby(['user_id'])['amount_n26_currency'].shift(lag).fillna(0)\n",
    "#             # rolling average\n",
    "            X[f'prev_lag_rolling_mean_{lag}'] = X.groupby(['user_id'])['amount_n26_currency'].shift(lag).rolling(2).mean().fillna(0)\n",
    "#             # cumulative average\n",
    "            X[f'prev_lag_expand_mean_{lag}'] = X.groupby(['user_id'])['amount_n26_currency'].shift(lag).expanding().mean().fillna(0)\n",
    "#             # exponential moving average\n",
    "            X[f'prev_lag_ewm_mean_{lag}'] = X.groupby(['user_id'])['amount_n26_currency'].shift(lag).ewm(0.1).mean().fillna(0)\n",
    "    \n",
    "            X[f'prev_lag_rolling_std_{lag}'] = X.groupby(['user_id'])['amount_n26_currency'].shift(lag).rolling(2).std().apply(np.std).fillna(0)\n",
    "        \n",
    "            X[f'prev_lag_expand_std_{lag}'] = X.groupby(['user_id'])['amount_n26_currency'].shift(lag).expanding().std().apply(np.std).fillna(0)\n",
    "            \n",
    "            X[f'prev_lag_ewm_std_{lag}'] = X.groupby(['user_id'])['amount_n26_currency'].shift(lag).ewm(0.1).std().apply(np.std).fillna(0)\n",
    "            \n",
    "        self.names = X[[x for x in X.columns if 'prev_' in x]].columns.tolist()\n",
    "\n",
    "        return X[[x for x in X.columns if 'prev_' in x]].values\n",
    "\n",
    "\n",
    "    def feature_names(self):\n",
    "        return self.names\n",
    "    "
   ]
  },
  {
   "cell_type": "code",
   "execution_count": null,
   "id": "4c4ece52-6d16-4c72-9c1e-1bff5b62a646",
   "metadata": {},
   "outputs": [],
   "source": [
    "def generate_pipeline(**kwargs):\n",
    "    \n",
    "    features = ColumnTransformer(\n",
    "        [('date_time_features',feature_engineering_datetime(), ['transaction_date']),\n",
    "         ('lag_features',feature_engineering(), ['user_id','amount_n26_currency'])\n",
    "        ],  \n",
    "        remainder='drop',\n",
    "        sparse_threshold=0.3,\n",
    "        n_jobs=None,\n",
    "        transformer_weights=None\n",
    "    )\n",
    "\n",
    "    \n",
    "    # can use any sklearn estimator\n",
    "    clf = XGBRegressor(n_estimators=100, random_state=42, booster='gbtree')\n",
    "        \n",
    "  \n",
    "    model = Pipeline([\n",
    "        ('features', features),\n",
    "        # ('clf', clf)\n",
    "    ]) \n",
    "    return model"
   ]
  },
  {
   "cell_type": "code",
   "execution_count": null,
   "id": "59133656-2f0a-467b-921c-b44f53c61f61",
   "metadata": {},
   "outputs": [],
   "source": [
    "in_data = in_data.sort_values(['user_id','transaction_date']).reset_index(drop=True)\n",
    "# split data set \n",
    "train = in_data[in_data['transaction_date'].dt.month < 7].reset_index(drop=True) # from feb to june\n",
    "test = in_data[in_data['transaction_date'].dt.month == 7].reset_index(drop=True) # test july\n",
    "y_train = np.log1p(train['amount_n26_currency'])\n",
    "y_test = np.log1p(test['amount_n26_currency'])"
   ]
  },
  {
   "cell_type": "code",
   "execution_count": null,
   "id": "50220cdc-5591-4462-9e6b-bbef3f167ed0",
   "metadata": {},
   "outputs": [],
   "source": [
    "model = generate_pipeline()\n",
    "\n"
   ]
  },
  {
   "cell_type": "code",
   "execution_count": null,
   "id": "9d4d24bb-f4fc-4e09-875d-c4e6170b13f5",
   "metadata": {},
   "outputs": [],
   "source": [
    "from pandas import read_csv\n",
    "from statsmodels.graphics.tsaplots import plot_acf\n",
    "a = plot_acf(np.log(train2.amount_n26_currency))\n",
    "a"
   ]
  },
  {
   "cell_type": "code",
   "execution_count": 20,
   "id": "734191d3-7880-4633-83f0-41d7a3251320",
   "metadata": {},
   "outputs": [
    {
     "name": "stdout",
     "output_type": "stream",
     "text": [
      "in timestamp of lags\n"
     ]
    },
    {
     "ename": "KeyboardInterrupt",
     "evalue": "",
     "output_type": "error",
     "traceback": [
      "\u001b[0;31m---------------------------------------------------------------------------\u001b[0m",
      "\u001b[0;31mKeyboardInterrupt\u001b[0m                         Traceback (most recent call last)",
      "\u001b[0;32m<ipython-input-20-12c57a7ce330>\u001b[0m in \u001b[0;36m<module>\u001b[0;34m\u001b[0m\n\u001b[0;32m----> 1\u001b[0;31m \u001b[0mmodel\u001b[0m\u001b[0;34m.\u001b[0m\u001b[0mfit\u001b[0m\u001b[0;34m(\u001b[0m\u001b[0mtrain\u001b[0m\u001b[0;34m)\u001b[0m\u001b[0;34m\u001b[0m\u001b[0;34m\u001b[0m\u001b[0m\n\u001b[0m",
      "\u001b[0;32m~/.local/lib/python3.8/site-packages/sklearn/pipeline.py\u001b[0m in \u001b[0;36mfit\u001b[0;34m(self, X, y, **fit_params)\u001b[0m\n\u001b[1;32m    344\u001b[0m             \u001b[0;32mif\u001b[0m \u001b[0mself\u001b[0m\u001b[0;34m.\u001b[0m\u001b[0m_final_estimator\u001b[0m \u001b[0;34m!=\u001b[0m \u001b[0;34m'passthrough'\u001b[0m\u001b[0;34m:\u001b[0m\u001b[0;34m\u001b[0m\u001b[0;34m\u001b[0m\u001b[0m\n\u001b[1;32m    345\u001b[0m                 \u001b[0mfit_params_last_step\u001b[0m \u001b[0;34m=\u001b[0m \u001b[0mfit_params_steps\u001b[0m\u001b[0;34m[\u001b[0m\u001b[0mself\u001b[0m\u001b[0;34m.\u001b[0m\u001b[0msteps\u001b[0m\u001b[0;34m[\u001b[0m\u001b[0;34m-\u001b[0m\u001b[0;36m1\u001b[0m\u001b[0;34m]\u001b[0m\u001b[0;34m[\u001b[0m\u001b[0;36m0\u001b[0m\u001b[0;34m]\u001b[0m\u001b[0;34m]\u001b[0m\u001b[0;34m\u001b[0m\u001b[0;34m\u001b[0m\u001b[0m\n\u001b[0;32m--> 346\u001b[0;31m                 \u001b[0mself\u001b[0m\u001b[0;34m.\u001b[0m\u001b[0m_final_estimator\u001b[0m\u001b[0;34m.\u001b[0m\u001b[0mfit\u001b[0m\u001b[0;34m(\u001b[0m\u001b[0mXt\u001b[0m\u001b[0;34m,\u001b[0m \u001b[0my\u001b[0m\u001b[0;34m,\u001b[0m \u001b[0;34m**\u001b[0m\u001b[0mfit_params_last_step\u001b[0m\u001b[0;34m)\u001b[0m\u001b[0;34m\u001b[0m\u001b[0;34m\u001b[0m\u001b[0m\n\u001b[0m\u001b[1;32m    347\u001b[0m \u001b[0;34m\u001b[0m\u001b[0m\n\u001b[1;32m    348\u001b[0m         \u001b[0;32mreturn\u001b[0m \u001b[0mself\u001b[0m\u001b[0;34m\u001b[0m\u001b[0;34m\u001b[0m\u001b[0m\n",
      "\u001b[0;32m~/.local/lib/python3.8/site-packages/sklearn/compose/_column_transformer.py\u001b[0m in \u001b[0;36mfit\u001b[0;34m(self, X, y)\u001b[0m\n\u001b[1;32m    469\u001b[0m         \u001b[0;31m# we use fit_transform to make sure to set sparse_output_ (for which we\u001b[0m\u001b[0;34m\u001b[0m\u001b[0;34m\u001b[0m\u001b[0;34m\u001b[0m\u001b[0m\n\u001b[1;32m    470\u001b[0m         \u001b[0;31m# need the transformed data) to have consistent output type in predict\u001b[0m\u001b[0;34m\u001b[0m\u001b[0;34m\u001b[0m\u001b[0;34m\u001b[0m\u001b[0m\n\u001b[0;32m--> 471\u001b[0;31m         \u001b[0mself\u001b[0m\u001b[0;34m.\u001b[0m\u001b[0mfit_transform\u001b[0m\u001b[0;34m(\u001b[0m\u001b[0mX\u001b[0m\u001b[0;34m,\u001b[0m \u001b[0my\u001b[0m\u001b[0;34m=\u001b[0m\u001b[0my\u001b[0m\u001b[0;34m)\u001b[0m\u001b[0;34m\u001b[0m\u001b[0;34m\u001b[0m\u001b[0m\n\u001b[0m\u001b[1;32m    472\u001b[0m         \u001b[0;32mreturn\u001b[0m \u001b[0mself\u001b[0m\u001b[0;34m\u001b[0m\u001b[0;34m\u001b[0m\u001b[0m\n\u001b[1;32m    473\u001b[0m \u001b[0;34m\u001b[0m\u001b[0m\n",
      "\u001b[0;32m~/.local/lib/python3.8/site-packages/sklearn/compose/_column_transformer.py\u001b[0m in \u001b[0;36mfit_transform\u001b[0;34m(self, X, y)\u001b[0m\n\u001b[1;32m    506\u001b[0m         \u001b[0mself\u001b[0m\u001b[0;34m.\u001b[0m\u001b[0m_validate_remainder\u001b[0m\u001b[0;34m(\u001b[0m\u001b[0mX\u001b[0m\u001b[0;34m)\u001b[0m\u001b[0;34m\u001b[0m\u001b[0;34m\u001b[0m\u001b[0m\n\u001b[1;32m    507\u001b[0m \u001b[0;34m\u001b[0m\u001b[0m\n\u001b[0;32m--> 508\u001b[0;31m         \u001b[0mresult\u001b[0m \u001b[0;34m=\u001b[0m \u001b[0mself\u001b[0m\u001b[0;34m.\u001b[0m\u001b[0m_fit_transform\u001b[0m\u001b[0;34m(\u001b[0m\u001b[0mX\u001b[0m\u001b[0;34m,\u001b[0m \u001b[0my\u001b[0m\u001b[0;34m,\u001b[0m \u001b[0m_fit_transform_one\u001b[0m\u001b[0;34m)\u001b[0m\u001b[0;34m\u001b[0m\u001b[0;34m\u001b[0m\u001b[0m\n\u001b[0m\u001b[1;32m    509\u001b[0m \u001b[0;34m\u001b[0m\u001b[0m\n\u001b[1;32m    510\u001b[0m         \u001b[0;32mif\u001b[0m \u001b[0;32mnot\u001b[0m \u001b[0mresult\u001b[0m\u001b[0;34m:\u001b[0m\u001b[0;34m\u001b[0m\u001b[0;34m\u001b[0m\u001b[0m\n",
      "\u001b[0;32m~/.local/lib/python3.8/site-packages/sklearn/compose/_column_transformer.py\u001b[0m in \u001b[0;36m_fit_transform\u001b[0;34m(self, X, y, func, fitted)\u001b[0m\n\u001b[1;32m    433\u001b[0m             self._iter(fitted=fitted, replace_strings=True))\n\u001b[1;32m    434\u001b[0m         \u001b[0;32mtry\u001b[0m\u001b[0;34m:\u001b[0m\u001b[0;34m\u001b[0m\u001b[0;34m\u001b[0m\u001b[0m\n\u001b[0;32m--> 435\u001b[0;31m             return Parallel(n_jobs=self.n_jobs)(\n\u001b[0m\u001b[1;32m    436\u001b[0m                 delayed(func)(\n\u001b[1;32m    437\u001b[0m                     \u001b[0mtransformer\u001b[0m\u001b[0;34m=\u001b[0m\u001b[0mclone\u001b[0m\u001b[0;34m(\u001b[0m\u001b[0mtrans\u001b[0m\u001b[0;34m)\u001b[0m \u001b[0;32mif\u001b[0m \u001b[0;32mnot\u001b[0m \u001b[0mfitted\u001b[0m \u001b[0;32melse\u001b[0m \u001b[0mtrans\u001b[0m\u001b[0;34m,\u001b[0m\u001b[0;34m\u001b[0m\u001b[0;34m\u001b[0m\u001b[0m\n",
      "\u001b[0;32m~/.local/lib/python3.8/site-packages/joblib/parallel.py\u001b[0m in \u001b[0;36m__call__\u001b[0;34m(self, iterable)\u001b[0m\n\u001b[1;32m   1042\u001b[0m                 \u001b[0mself\u001b[0m\u001b[0;34m.\u001b[0m\u001b[0m_iterating\u001b[0m \u001b[0;34m=\u001b[0m \u001b[0mself\u001b[0m\u001b[0;34m.\u001b[0m\u001b[0m_original_iterator\u001b[0m \u001b[0;32mis\u001b[0m \u001b[0;32mnot\u001b[0m \u001b[0;32mNone\u001b[0m\u001b[0;34m\u001b[0m\u001b[0;34m\u001b[0m\u001b[0m\n\u001b[1;32m   1043\u001b[0m \u001b[0;34m\u001b[0m\u001b[0m\n\u001b[0;32m-> 1044\u001b[0;31m             \u001b[0;32mwhile\u001b[0m \u001b[0mself\u001b[0m\u001b[0;34m.\u001b[0m\u001b[0mdispatch_one_batch\u001b[0m\u001b[0;34m(\u001b[0m\u001b[0miterator\u001b[0m\u001b[0;34m)\u001b[0m\u001b[0;34m:\u001b[0m\u001b[0;34m\u001b[0m\u001b[0;34m\u001b[0m\u001b[0m\n\u001b[0m\u001b[1;32m   1045\u001b[0m                 \u001b[0;32mpass\u001b[0m\u001b[0;34m\u001b[0m\u001b[0;34m\u001b[0m\u001b[0m\n\u001b[1;32m   1046\u001b[0m \u001b[0;34m\u001b[0m\u001b[0m\n",
      "\u001b[0;32m~/.local/lib/python3.8/site-packages/joblib/parallel.py\u001b[0m in \u001b[0;36mdispatch_one_batch\u001b[0;34m(self, iterator)\u001b[0m\n\u001b[1;32m    857\u001b[0m                 \u001b[0;32mreturn\u001b[0m \u001b[0;32mFalse\u001b[0m\u001b[0;34m\u001b[0m\u001b[0;34m\u001b[0m\u001b[0m\n\u001b[1;32m    858\u001b[0m             \u001b[0;32melse\u001b[0m\u001b[0;34m:\u001b[0m\u001b[0;34m\u001b[0m\u001b[0;34m\u001b[0m\u001b[0m\n\u001b[0;32m--> 859\u001b[0;31m                 \u001b[0mself\u001b[0m\u001b[0;34m.\u001b[0m\u001b[0m_dispatch\u001b[0m\u001b[0;34m(\u001b[0m\u001b[0mtasks\u001b[0m\u001b[0;34m)\u001b[0m\u001b[0;34m\u001b[0m\u001b[0;34m\u001b[0m\u001b[0m\n\u001b[0m\u001b[1;32m    860\u001b[0m                 \u001b[0;32mreturn\u001b[0m \u001b[0;32mTrue\u001b[0m\u001b[0;34m\u001b[0m\u001b[0;34m\u001b[0m\u001b[0m\n\u001b[1;32m    861\u001b[0m \u001b[0;34m\u001b[0m\u001b[0m\n",
      "\u001b[0;32m~/.local/lib/python3.8/site-packages/joblib/parallel.py\u001b[0m in \u001b[0;36m_dispatch\u001b[0;34m(self, batch)\u001b[0m\n\u001b[1;32m    775\u001b[0m         \u001b[0;32mwith\u001b[0m \u001b[0mself\u001b[0m\u001b[0;34m.\u001b[0m\u001b[0m_lock\u001b[0m\u001b[0;34m:\u001b[0m\u001b[0;34m\u001b[0m\u001b[0;34m\u001b[0m\u001b[0m\n\u001b[1;32m    776\u001b[0m             \u001b[0mjob_idx\u001b[0m \u001b[0;34m=\u001b[0m \u001b[0mlen\u001b[0m\u001b[0;34m(\u001b[0m\u001b[0mself\u001b[0m\u001b[0;34m.\u001b[0m\u001b[0m_jobs\u001b[0m\u001b[0;34m)\u001b[0m\u001b[0;34m\u001b[0m\u001b[0;34m\u001b[0m\u001b[0m\n\u001b[0;32m--> 777\u001b[0;31m             \u001b[0mjob\u001b[0m \u001b[0;34m=\u001b[0m \u001b[0mself\u001b[0m\u001b[0;34m.\u001b[0m\u001b[0m_backend\u001b[0m\u001b[0;34m.\u001b[0m\u001b[0mapply_async\u001b[0m\u001b[0;34m(\u001b[0m\u001b[0mbatch\u001b[0m\u001b[0;34m,\u001b[0m \u001b[0mcallback\u001b[0m\u001b[0;34m=\u001b[0m\u001b[0mcb\u001b[0m\u001b[0;34m)\u001b[0m\u001b[0;34m\u001b[0m\u001b[0;34m\u001b[0m\u001b[0m\n\u001b[0m\u001b[1;32m    778\u001b[0m             \u001b[0;31m# A job can complete so quickly than its callback is\u001b[0m\u001b[0;34m\u001b[0m\u001b[0;34m\u001b[0m\u001b[0;34m\u001b[0m\u001b[0m\n\u001b[1;32m    779\u001b[0m             \u001b[0;31m# called before we get here, causing self._jobs to\u001b[0m\u001b[0;34m\u001b[0m\u001b[0;34m\u001b[0m\u001b[0;34m\u001b[0m\u001b[0m\n",
      "\u001b[0;32m~/.local/lib/python3.8/site-packages/joblib/_parallel_backends.py\u001b[0m in \u001b[0;36mapply_async\u001b[0;34m(self, func, callback)\u001b[0m\n\u001b[1;32m    206\u001b[0m     \u001b[0;32mdef\u001b[0m \u001b[0mapply_async\u001b[0m\u001b[0;34m(\u001b[0m\u001b[0mself\u001b[0m\u001b[0;34m,\u001b[0m \u001b[0mfunc\u001b[0m\u001b[0;34m,\u001b[0m \u001b[0mcallback\u001b[0m\u001b[0;34m=\u001b[0m\u001b[0;32mNone\u001b[0m\u001b[0;34m)\u001b[0m\u001b[0;34m:\u001b[0m\u001b[0;34m\u001b[0m\u001b[0;34m\u001b[0m\u001b[0m\n\u001b[1;32m    207\u001b[0m         \u001b[0;34m\"\"\"Schedule a func to be run\"\"\"\u001b[0m\u001b[0;34m\u001b[0m\u001b[0;34m\u001b[0m\u001b[0m\n\u001b[0;32m--> 208\u001b[0;31m         \u001b[0mresult\u001b[0m \u001b[0;34m=\u001b[0m \u001b[0mImmediateResult\u001b[0m\u001b[0;34m(\u001b[0m\u001b[0mfunc\u001b[0m\u001b[0;34m)\u001b[0m\u001b[0;34m\u001b[0m\u001b[0;34m\u001b[0m\u001b[0m\n\u001b[0m\u001b[1;32m    209\u001b[0m         \u001b[0;32mif\u001b[0m \u001b[0mcallback\u001b[0m\u001b[0;34m:\u001b[0m\u001b[0;34m\u001b[0m\u001b[0;34m\u001b[0m\u001b[0m\n\u001b[1;32m    210\u001b[0m             \u001b[0mcallback\u001b[0m\u001b[0;34m(\u001b[0m\u001b[0mresult\u001b[0m\u001b[0;34m)\u001b[0m\u001b[0;34m\u001b[0m\u001b[0;34m\u001b[0m\u001b[0m\n",
      "\u001b[0;32m~/.local/lib/python3.8/site-packages/joblib/_parallel_backends.py\u001b[0m in \u001b[0;36m__init__\u001b[0;34m(self, batch)\u001b[0m\n\u001b[1;32m    570\u001b[0m         \u001b[0;31m# Don't delay the application, to avoid keeping the input\u001b[0m\u001b[0;34m\u001b[0m\u001b[0;34m\u001b[0m\u001b[0;34m\u001b[0m\u001b[0m\n\u001b[1;32m    571\u001b[0m         \u001b[0;31m# arguments in memory\u001b[0m\u001b[0;34m\u001b[0m\u001b[0;34m\u001b[0m\u001b[0;34m\u001b[0m\u001b[0m\n\u001b[0;32m--> 572\u001b[0;31m         \u001b[0mself\u001b[0m\u001b[0;34m.\u001b[0m\u001b[0mresults\u001b[0m \u001b[0;34m=\u001b[0m \u001b[0mbatch\u001b[0m\u001b[0;34m(\u001b[0m\u001b[0;34m)\u001b[0m\u001b[0;34m\u001b[0m\u001b[0;34m\u001b[0m\u001b[0m\n\u001b[0m\u001b[1;32m    573\u001b[0m \u001b[0;34m\u001b[0m\u001b[0m\n\u001b[1;32m    574\u001b[0m     \u001b[0;32mdef\u001b[0m \u001b[0mget\u001b[0m\u001b[0;34m(\u001b[0m\u001b[0mself\u001b[0m\u001b[0;34m)\u001b[0m\u001b[0;34m:\u001b[0m\u001b[0;34m\u001b[0m\u001b[0;34m\u001b[0m\u001b[0m\n",
      "\u001b[0;32m~/.local/lib/python3.8/site-packages/joblib/parallel.py\u001b[0m in \u001b[0;36m__call__\u001b[0;34m(self)\u001b[0m\n\u001b[1;32m    260\u001b[0m         \u001b[0;31m# change the default number of processes to -1\u001b[0m\u001b[0;34m\u001b[0m\u001b[0;34m\u001b[0m\u001b[0;34m\u001b[0m\u001b[0m\n\u001b[1;32m    261\u001b[0m         \u001b[0;32mwith\u001b[0m \u001b[0mparallel_backend\u001b[0m\u001b[0;34m(\u001b[0m\u001b[0mself\u001b[0m\u001b[0;34m.\u001b[0m\u001b[0m_backend\u001b[0m\u001b[0;34m,\u001b[0m \u001b[0mn_jobs\u001b[0m\u001b[0;34m=\u001b[0m\u001b[0mself\u001b[0m\u001b[0;34m.\u001b[0m\u001b[0m_n_jobs\u001b[0m\u001b[0;34m)\u001b[0m\u001b[0;34m:\u001b[0m\u001b[0;34m\u001b[0m\u001b[0;34m\u001b[0m\u001b[0m\n\u001b[0;32m--> 262\u001b[0;31m             return [func(*args, **kwargs)\n\u001b[0m\u001b[1;32m    263\u001b[0m                     for func, args, kwargs in self.items]\n\u001b[1;32m    264\u001b[0m \u001b[0;34m\u001b[0m\u001b[0m\n",
      "\u001b[0;32m~/.local/lib/python3.8/site-packages/joblib/parallel.py\u001b[0m in \u001b[0;36m<listcomp>\u001b[0;34m(.0)\u001b[0m\n\u001b[1;32m    260\u001b[0m         \u001b[0;31m# change the default number of processes to -1\u001b[0m\u001b[0;34m\u001b[0m\u001b[0;34m\u001b[0m\u001b[0;34m\u001b[0m\u001b[0m\n\u001b[1;32m    261\u001b[0m         \u001b[0;32mwith\u001b[0m \u001b[0mparallel_backend\u001b[0m\u001b[0;34m(\u001b[0m\u001b[0mself\u001b[0m\u001b[0;34m.\u001b[0m\u001b[0m_backend\u001b[0m\u001b[0;34m,\u001b[0m \u001b[0mn_jobs\u001b[0m\u001b[0;34m=\u001b[0m\u001b[0mself\u001b[0m\u001b[0;34m.\u001b[0m\u001b[0m_n_jobs\u001b[0m\u001b[0;34m)\u001b[0m\u001b[0;34m:\u001b[0m\u001b[0;34m\u001b[0m\u001b[0;34m\u001b[0m\u001b[0m\n\u001b[0;32m--> 262\u001b[0;31m             return [func(*args, **kwargs)\n\u001b[0m\u001b[1;32m    263\u001b[0m                     for func, args, kwargs in self.items]\n\u001b[1;32m    264\u001b[0m \u001b[0;34m\u001b[0m\u001b[0m\n",
      "\u001b[0;32m~/.local/lib/python3.8/site-packages/sklearn/utils/fixes.py\u001b[0m in \u001b[0;36m__call__\u001b[0;34m(self, *args, **kwargs)\u001b[0m\n\u001b[1;32m    220\u001b[0m     \u001b[0;32mdef\u001b[0m \u001b[0m__call__\u001b[0m\u001b[0;34m(\u001b[0m\u001b[0mself\u001b[0m\u001b[0;34m,\u001b[0m \u001b[0;34m*\u001b[0m\u001b[0margs\u001b[0m\u001b[0;34m,\u001b[0m \u001b[0;34m**\u001b[0m\u001b[0mkwargs\u001b[0m\u001b[0;34m)\u001b[0m\u001b[0;34m:\u001b[0m\u001b[0;34m\u001b[0m\u001b[0;34m\u001b[0m\u001b[0m\n\u001b[1;32m    221\u001b[0m         \u001b[0;32mwith\u001b[0m \u001b[0mconfig_context\u001b[0m\u001b[0;34m(\u001b[0m\u001b[0;34m**\u001b[0m\u001b[0mself\u001b[0m\u001b[0;34m.\u001b[0m\u001b[0mconfig\u001b[0m\u001b[0;34m)\u001b[0m\u001b[0;34m:\u001b[0m\u001b[0;34m\u001b[0m\u001b[0;34m\u001b[0m\u001b[0m\n\u001b[0;32m--> 222\u001b[0;31m             \u001b[0;32mreturn\u001b[0m \u001b[0mself\u001b[0m\u001b[0;34m.\u001b[0m\u001b[0mfunction\u001b[0m\u001b[0;34m(\u001b[0m\u001b[0;34m*\u001b[0m\u001b[0margs\u001b[0m\u001b[0;34m,\u001b[0m \u001b[0;34m**\u001b[0m\u001b[0mkwargs\u001b[0m\u001b[0;34m)\u001b[0m\u001b[0;34m\u001b[0m\u001b[0;34m\u001b[0m\u001b[0m\n\u001b[0m",
      "\u001b[0;32m~/.local/lib/python3.8/site-packages/sklearn/pipeline.py\u001b[0m in \u001b[0;36m_fit_transform_one\u001b[0;34m(transformer, X, y, weight, message_clsname, message, **fit_params)\u001b[0m\n\u001b[1;32m    752\u001b[0m     \u001b[0;32mwith\u001b[0m \u001b[0m_print_elapsed_time\u001b[0m\u001b[0;34m(\u001b[0m\u001b[0mmessage_clsname\u001b[0m\u001b[0;34m,\u001b[0m \u001b[0mmessage\u001b[0m\u001b[0;34m)\u001b[0m\u001b[0;34m:\u001b[0m\u001b[0;34m\u001b[0m\u001b[0;34m\u001b[0m\u001b[0m\n\u001b[1;32m    753\u001b[0m         \u001b[0;32mif\u001b[0m \u001b[0mhasattr\u001b[0m\u001b[0;34m(\u001b[0m\u001b[0mtransformer\u001b[0m\u001b[0;34m,\u001b[0m \u001b[0;34m'fit_transform'\u001b[0m\u001b[0;34m)\u001b[0m\u001b[0;34m:\u001b[0m\u001b[0;34m\u001b[0m\u001b[0;34m\u001b[0m\u001b[0m\n\u001b[0;32m--> 754\u001b[0;31m             \u001b[0mres\u001b[0m \u001b[0;34m=\u001b[0m \u001b[0mtransformer\u001b[0m\u001b[0;34m.\u001b[0m\u001b[0mfit_transform\u001b[0m\u001b[0;34m(\u001b[0m\u001b[0mX\u001b[0m\u001b[0;34m,\u001b[0m \u001b[0my\u001b[0m\u001b[0;34m,\u001b[0m \u001b[0;34m**\u001b[0m\u001b[0mfit_params\u001b[0m\u001b[0;34m)\u001b[0m\u001b[0;34m\u001b[0m\u001b[0;34m\u001b[0m\u001b[0m\n\u001b[0m\u001b[1;32m    755\u001b[0m         \u001b[0;32melse\u001b[0m\u001b[0;34m:\u001b[0m\u001b[0;34m\u001b[0m\u001b[0;34m\u001b[0m\u001b[0m\n\u001b[1;32m    756\u001b[0m             \u001b[0mres\u001b[0m \u001b[0;34m=\u001b[0m \u001b[0mtransformer\u001b[0m\u001b[0;34m.\u001b[0m\u001b[0mfit\u001b[0m\u001b[0;34m(\u001b[0m\u001b[0mX\u001b[0m\u001b[0;34m,\u001b[0m \u001b[0my\u001b[0m\u001b[0;34m,\u001b[0m \u001b[0;34m**\u001b[0m\u001b[0mfit_params\u001b[0m\u001b[0;34m)\u001b[0m\u001b[0;34m.\u001b[0m\u001b[0mtransform\u001b[0m\u001b[0;34m(\u001b[0m\u001b[0mX\u001b[0m\u001b[0;34m)\u001b[0m\u001b[0;34m\u001b[0m\u001b[0;34m\u001b[0m\u001b[0m\n",
      "\u001b[0;32m~/.local/lib/python3.8/site-packages/sklearn/base.py\u001b[0m in \u001b[0;36mfit_transform\u001b[0;34m(self, X, y, **fit_params)\u001b[0m\n\u001b[1;32m    697\u001b[0m         \u001b[0;32mif\u001b[0m \u001b[0my\u001b[0m \u001b[0;32mis\u001b[0m \u001b[0;32mNone\u001b[0m\u001b[0;34m:\u001b[0m\u001b[0;34m\u001b[0m\u001b[0;34m\u001b[0m\u001b[0m\n\u001b[1;32m    698\u001b[0m             \u001b[0;31m# fit method of arity 1 (unsupervised transformation)\u001b[0m\u001b[0;34m\u001b[0m\u001b[0;34m\u001b[0m\u001b[0;34m\u001b[0m\u001b[0m\n\u001b[0;32m--> 699\u001b[0;31m             \u001b[0;32mreturn\u001b[0m \u001b[0mself\u001b[0m\u001b[0;34m.\u001b[0m\u001b[0mfit\u001b[0m\u001b[0;34m(\u001b[0m\u001b[0mX\u001b[0m\u001b[0;34m,\u001b[0m \u001b[0;34m**\u001b[0m\u001b[0mfit_params\u001b[0m\u001b[0;34m)\u001b[0m\u001b[0;34m.\u001b[0m\u001b[0mtransform\u001b[0m\u001b[0;34m(\u001b[0m\u001b[0mX\u001b[0m\u001b[0;34m)\u001b[0m\u001b[0;34m\u001b[0m\u001b[0;34m\u001b[0m\u001b[0m\n\u001b[0m\u001b[1;32m    700\u001b[0m         \u001b[0;32melse\u001b[0m\u001b[0;34m:\u001b[0m\u001b[0;34m\u001b[0m\u001b[0;34m\u001b[0m\u001b[0m\n\u001b[1;32m    701\u001b[0m             \u001b[0;31m# fit method of arity 2 (supervised transformation)\u001b[0m\u001b[0;34m\u001b[0m\u001b[0;34m\u001b[0m\u001b[0;34m\u001b[0m\u001b[0m\n",
      "\u001b[0;32m<ipython-input-16-abc23ccf2127>\u001b[0m in \u001b[0;36mtransform\u001b[0;34m(self, X, y)\u001b[0m\n\u001b[1;32m     22\u001b[0m             \u001b[0mX\u001b[0m\u001b[0;34m[\u001b[0m\u001b[0;34mf'prev_lag_rolling_std_{lag}'\u001b[0m\u001b[0;34m]\u001b[0m \u001b[0;34m=\u001b[0m \u001b[0mX\u001b[0m\u001b[0;34m.\u001b[0m\u001b[0mgroupby\u001b[0m\u001b[0;34m(\u001b[0m\u001b[0;34m[\u001b[0m\u001b[0;34m'user_id'\u001b[0m\u001b[0;34m]\u001b[0m\u001b[0;34m)\u001b[0m\u001b[0;34m[\u001b[0m\u001b[0;34m'amount_n26_currency'\u001b[0m\u001b[0;34m]\u001b[0m\u001b[0;34m.\u001b[0m\u001b[0mshift\u001b[0m\u001b[0;34m(\u001b[0m\u001b[0mlag\u001b[0m\u001b[0;34m)\u001b[0m\u001b[0;34m.\u001b[0m\u001b[0mrolling\u001b[0m\u001b[0;34m(\u001b[0m\u001b[0;36m2\u001b[0m\u001b[0;34m)\u001b[0m\u001b[0;34m.\u001b[0m\u001b[0mstd\u001b[0m\u001b[0;34m(\u001b[0m\u001b[0;34m)\u001b[0m\u001b[0;34m.\u001b[0m\u001b[0mapply\u001b[0m\u001b[0;34m(\u001b[0m\u001b[0mnp\u001b[0m\u001b[0;34m.\u001b[0m\u001b[0mstd\u001b[0m\u001b[0;34m)\u001b[0m\u001b[0;34m.\u001b[0m\u001b[0mfillna\u001b[0m\u001b[0;34m(\u001b[0m\u001b[0;36m0\u001b[0m\u001b[0;34m)\u001b[0m\u001b[0;34m\u001b[0m\u001b[0;34m\u001b[0m\u001b[0m\n\u001b[1;32m     23\u001b[0m \u001b[0;34m\u001b[0m\u001b[0m\n\u001b[0;32m---> 24\u001b[0;31m             \u001b[0mX\u001b[0m\u001b[0;34m[\u001b[0m\u001b[0;34mf'prev_lag_expand_std_{lag}'\u001b[0m\u001b[0;34m]\u001b[0m \u001b[0;34m=\u001b[0m \u001b[0mX\u001b[0m\u001b[0;34m.\u001b[0m\u001b[0mgroupby\u001b[0m\u001b[0;34m(\u001b[0m\u001b[0;34m[\u001b[0m\u001b[0;34m'user_id'\u001b[0m\u001b[0;34m]\u001b[0m\u001b[0;34m)\u001b[0m\u001b[0;34m[\u001b[0m\u001b[0;34m'amount_n26_currency'\u001b[0m\u001b[0;34m]\u001b[0m\u001b[0;34m.\u001b[0m\u001b[0mshift\u001b[0m\u001b[0;34m(\u001b[0m\u001b[0mlag\u001b[0m\u001b[0;34m)\u001b[0m\u001b[0;34m.\u001b[0m\u001b[0mexpanding\u001b[0m\u001b[0;34m(\u001b[0m\u001b[0;34m)\u001b[0m\u001b[0;34m.\u001b[0m\u001b[0mstd\u001b[0m\u001b[0;34m(\u001b[0m\u001b[0;34m)\u001b[0m\u001b[0;34m.\u001b[0m\u001b[0mapply\u001b[0m\u001b[0;34m(\u001b[0m\u001b[0mnp\u001b[0m\u001b[0;34m.\u001b[0m\u001b[0mstd\u001b[0m\u001b[0;34m)\u001b[0m\u001b[0;34m.\u001b[0m\u001b[0mfillna\u001b[0m\u001b[0;34m(\u001b[0m\u001b[0;36m0\u001b[0m\u001b[0;34m)\u001b[0m\u001b[0;34m\u001b[0m\u001b[0;34m\u001b[0m\u001b[0m\n\u001b[0m\u001b[1;32m     25\u001b[0m \u001b[0;34m\u001b[0m\u001b[0m\n\u001b[1;32m     26\u001b[0m             \u001b[0mX\u001b[0m\u001b[0;34m[\u001b[0m\u001b[0;34mf'prev_lag_ewm_std_{lag}'\u001b[0m\u001b[0;34m]\u001b[0m \u001b[0;34m=\u001b[0m \u001b[0mX\u001b[0m\u001b[0;34m.\u001b[0m\u001b[0mgroupby\u001b[0m\u001b[0;34m(\u001b[0m\u001b[0;34m[\u001b[0m\u001b[0;34m'user_id'\u001b[0m\u001b[0;34m]\u001b[0m\u001b[0;34m)\u001b[0m\u001b[0;34m[\u001b[0m\u001b[0;34m'amount_n26_currency'\u001b[0m\u001b[0;34m]\u001b[0m\u001b[0;34m.\u001b[0m\u001b[0mshift\u001b[0m\u001b[0;34m(\u001b[0m\u001b[0mlag\u001b[0m\u001b[0;34m)\u001b[0m\u001b[0;34m.\u001b[0m\u001b[0mewm\u001b[0m\u001b[0;34m(\u001b[0m\u001b[0;36m0.1\u001b[0m\u001b[0;34m)\u001b[0m\u001b[0;34m.\u001b[0m\u001b[0mstd\u001b[0m\u001b[0;34m(\u001b[0m\u001b[0;34m)\u001b[0m\u001b[0;34m.\u001b[0m\u001b[0mapply\u001b[0m\u001b[0;34m(\u001b[0m\u001b[0mnp\u001b[0m\u001b[0;34m.\u001b[0m\u001b[0mstd\u001b[0m\u001b[0;34m)\u001b[0m\u001b[0;34m.\u001b[0m\u001b[0mfillna\u001b[0m\u001b[0;34m(\u001b[0m\u001b[0;36m0\u001b[0m\u001b[0;34m)\u001b[0m\u001b[0;34m\u001b[0m\u001b[0;34m\u001b[0m\u001b[0m\n",
      "\u001b[0;32m~/.local/lib/python3.8/site-packages/pandas/core/series.py\u001b[0m in \u001b[0;36mapply\u001b[0;34m(self, func, convert_dtype, args, **kwds)\u001b[0m\n\u001b[1;32m   4136\u001b[0m             \u001b[0;32melse\u001b[0m\u001b[0;34m:\u001b[0m\u001b[0;34m\u001b[0m\u001b[0;34m\u001b[0m\u001b[0m\n\u001b[1;32m   4137\u001b[0m                 \u001b[0mvalues\u001b[0m \u001b[0;34m=\u001b[0m \u001b[0mself\u001b[0m\u001b[0;34m.\u001b[0m\u001b[0mastype\u001b[0m\u001b[0;34m(\u001b[0m\u001b[0mobject\u001b[0m\u001b[0;34m)\u001b[0m\u001b[0;34m.\u001b[0m\u001b[0m_values\u001b[0m\u001b[0;34m\u001b[0m\u001b[0;34m\u001b[0m\u001b[0m\n\u001b[0;32m-> 4138\u001b[0;31m                 \u001b[0mmapped\u001b[0m \u001b[0;34m=\u001b[0m \u001b[0mlib\u001b[0m\u001b[0;34m.\u001b[0m\u001b[0mmap_infer\u001b[0m\u001b[0;34m(\u001b[0m\u001b[0mvalues\u001b[0m\u001b[0;34m,\u001b[0m \u001b[0mf\u001b[0m\u001b[0;34m,\u001b[0m \u001b[0mconvert\u001b[0m\u001b[0;34m=\u001b[0m\u001b[0mconvert_dtype\u001b[0m\u001b[0;34m)\u001b[0m\u001b[0;34m\u001b[0m\u001b[0;34m\u001b[0m\u001b[0m\n\u001b[0m\u001b[1;32m   4139\u001b[0m \u001b[0;34m\u001b[0m\u001b[0m\n\u001b[1;32m   4140\u001b[0m         \u001b[0;32mif\u001b[0m \u001b[0mlen\u001b[0m\u001b[0;34m(\u001b[0m\u001b[0mmapped\u001b[0m\u001b[0;34m)\u001b[0m \u001b[0;32mand\u001b[0m \u001b[0misinstance\u001b[0m\u001b[0;34m(\u001b[0m\u001b[0mmapped\u001b[0m\u001b[0;34m[\u001b[0m\u001b[0;36m0\u001b[0m\u001b[0;34m]\u001b[0m\u001b[0;34m,\u001b[0m \u001b[0mSeries\u001b[0m\u001b[0;34m)\u001b[0m\u001b[0;34m:\u001b[0m\u001b[0;34m\u001b[0m\u001b[0;34m\u001b[0m\u001b[0m\n",
      "\u001b[0;32mpandas/_libs/lib.pyx\u001b[0m in \u001b[0;36mpandas._libs.lib.map_infer\u001b[0;34m()\u001b[0m\n",
      "\u001b[0;32m<__array_function__ internals>\u001b[0m in \u001b[0;36mstd\u001b[0;34m(*args, **kwargs)\u001b[0m\n",
      "\u001b[0;32m~/.local/lib/python3.8/site-packages/numpy/core/fromnumeric.py\u001b[0m in \u001b[0;36mstd\u001b[0;34m(a, axis, dtype, out, ddof, keepdims, where)\u001b[0m\n\u001b[1;32m   3558\u001b[0m             \u001b[0;32mreturn\u001b[0m \u001b[0mstd\u001b[0m\u001b[0;34m(\u001b[0m\u001b[0maxis\u001b[0m\u001b[0;34m=\u001b[0m\u001b[0maxis\u001b[0m\u001b[0;34m,\u001b[0m \u001b[0mdtype\u001b[0m\u001b[0;34m=\u001b[0m\u001b[0mdtype\u001b[0m\u001b[0;34m,\u001b[0m \u001b[0mout\u001b[0m\u001b[0;34m=\u001b[0m\u001b[0mout\u001b[0m\u001b[0;34m,\u001b[0m \u001b[0mddof\u001b[0m\u001b[0;34m=\u001b[0m\u001b[0mddof\u001b[0m\u001b[0;34m,\u001b[0m \u001b[0;34m**\u001b[0m\u001b[0mkwargs\u001b[0m\u001b[0;34m)\u001b[0m\u001b[0;34m\u001b[0m\u001b[0;34m\u001b[0m\u001b[0m\n\u001b[1;32m   3559\u001b[0m \u001b[0;34m\u001b[0m\u001b[0m\n\u001b[0;32m-> 3560\u001b[0;31m     return _methods._std(a, axis=axis, dtype=dtype, out=out, ddof=ddof,\n\u001b[0m\u001b[1;32m   3561\u001b[0m                          **kwargs)\n\u001b[1;32m   3562\u001b[0m \u001b[0;34m\u001b[0m\u001b[0m\n",
      "\u001b[0;32m~/.local/lib/python3.8/site-packages/numpy/core/_methods.py\u001b[0m in \u001b[0;36m_std\u001b[0;34m(a, axis, dtype, out, ddof, keepdims, where)\u001b[0m\n\u001b[1;32m    259\u001b[0m def _std(a, axis=None, dtype=None, out=None, ddof=0, keepdims=False, *,\n\u001b[1;32m    260\u001b[0m          where=True):\n\u001b[0;32m--> 261\u001b[0;31m     ret = _var(a, axis=axis, dtype=dtype, out=out, ddof=ddof,\n\u001b[0m\u001b[1;32m    262\u001b[0m                keepdims=keepdims, where=where)\n\u001b[1;32m    263\u001b[0m \u001b[0;34m\u001b[0m\u001b[0m\n",
      "\u001b[0;32m~/.local/lib/python3.8/site-packages/numpy/core/_methods.py\u001b[0m in \u001b[0;36m_var\u001b[0;34m(a, axis, dtype, out, ddof, keepdims, where)\u001b[0m\n\u001b[1;32m    196\u001b[0m     \u001b[0marr\u001b[0m \u001b[0;34m=\u001b[0m \u001b[0masanyarray\u001b[0m\u001b[0;34m(\u001b[0m\u001b[0ma\u001b[0m\u001b[0;34m)\u001b[0m\u001b[0;34m\u001b[0m\u001b[0;34m\u001b[0m\u001b[0m\n\u001b[1;32m    197\u001b[0m \u001b[0;34m\u001b[0m\u001b[0m\n\u001b[0;32m--> 198\u001b[0;31m     \u001b[0mrcount\u001b[0m \u001b[0;34m=\u001b[0m \u001b[0m_count_reduce_items\u001b[0m\u001b[0;34m(\u001b[0m\u001b[0marr\u001b[0m\u001b[0;34m,\u001b[0m \u001b[0maxis\u001b[0m\u001b[0;34m,\u001b[0m \u001b[0mkeepdims\u001b[0m\u001b[0;34m=\u001b[0m\u001b[0mkeepdims\u001b[0m\u001b[0;34m,\u001b[0m \u001b[0mwhere\u001b[0m\u001b[0;34m=\u001b[0m\u001b[0mwhere\u001b[0m\u001b[0;34m)\u001b[0m\u001b[0;34m\u001b[0m\u001b[0;34m\u001b[0m\u001b[0m\n\u001b[0m\u001b[1;32m    199\u001b[0m     \u001b[0;31m# Make this warning show up on top.\u001b[0m\u001b[0;34m\u001b[0m\u001b[0;34m\u001b[0m\u001b[0;34m\u001b[0m\u001b[0m\n\u001b[1;32m    200\u001b[0m     \u001b[0;32mif\u001b[0m \u001b[0mddof\u001b[0m \u001b[0;34m>=\u001b[0m \u001b[0mrcount\u001b[0m \u001b[0;32mif\u001b[0m \u001b[0mwhere\u001b[0m \u001b[0;32mis\u001b[0m \u001b[0;32mTrue\u001b[0m \u001b[0;32melse\u001b[0m \u001b[0mumr_any\u001b[0m\u001b[0;34m(\u001b[0m\u001b[0mddof\u001b[0m \u001b[0;34m>=\u001b[0m \u001b[0mrcount\u001b[0m\u001b[0;34m)\u001b[0m\u001b[0;34m:\u001b[0m\u001b[0;34m\u001b[0m\u001b[0;34m\u001b[0m\u001b[0m\n",
      "\u001b[0;32m~/.local/lib/python3.8/site-packages/numpy/core/_methods.py\u001b[0m in \u001b[0;36m_count_reduce_items\u001b[0;34m(arr, axis, keepdims, where)\u001b[0m\n\u001b[1;32m     68\u001b[0m         \u001b[0;31m# no boolean mask given, calculate items according to axis\u001b[0m\u001b[0;34m\u001b[0m\u001b[0;34m\u001b[0m\u001b[0;34m\u001b[0m\u001b[0m\n\u001b[1;32m     69\u001b[0m         \u001b[0;32mif\u001b[0m \u001b[0maxis\u001b[0m \u001b[0;32mis\u001b[0m \u001b[0;32mNone\u001b[0m\u001b[0;34m:\u001b[0m\u001b[0;34m\u001b[0m\u001b[0;34m\u001b[0m\u001b[0m\n\u001b[0;32m---> 70\u001b[0;31m             \u001b[0maxis\u001b[0m \u001b[0;34m=\u001b[0m \u001b[0mtuple\u001b[0m\u001b[0;34m(\u001b[0m\u001b[0mrange\u001b[0m\u001b[0;34m(\u001b[0m\u001b[0marr\u001b[0m\u001b[0;34m.\u001b[0m\u001b[0mndim\u001b[0m\u001b[0;34m)\u001b[0m\u001b[0;34m)\u001b[0m\u001b[0;34m\u001b[0m\u001b[0;34m\u001b[0m\u001b[0m\n\u001b[0m\u001b[1;32m     71\u001b[0m         \u001b[0;32melif\u001b[0m \u001b[0;32mnot\u001b[0m \u001b[0misinstance\u001b[0m\u001b[0;34m(\u001b[0m\u001b[0maxis\u001b[0m\u001b[0;34m,\u001b[0m \u001b[0mtuple\u001b[0m\u001b[0;34m)\u001b[0m\u001b[0;34m:\u001b[0m\u001b[0;34m\u001b[0m\u001b[0;34m\u001b[0m\u001b[0m\n\u001b[1;32m     72\u001b[0m             \u001b[0maxis\u001b[0m \u001b[0;34m=\u001b[0m \u001b[0;34m(\u001b[0m\u001b[0maxis\u001b[0m\u001b[0;34m,\u001b[0m\u001b[0;34m)\u001b[0m\u001b[0;34m\u001b[0m\u001b[0;34m\u001b[0m\u001b[0m\n",
      "\u001b[0;31mKeyboardInterrupt\u001b[0m: "
     ]
    }
   ],
   "source": [
    "model.fit(train)"
   ]
  },
  {
   "cell_type": "code",
   "execution_count": null,
   "id": "0079ce99-f07a-445e-b756-3c1f3f19e611",
   "metadata": {},
   "outputs": [],
   "source": [
    "# initialise the model and fit\n",
    "xgb = XGBRegressor(booster='gbtree', random_state=42)\n",
    "# xgb.fit(model.transform(train), y_train)"
   ]
  },
  {
   "cell_type": "code",
   "execution_count": null,
   "id": "76a91173-1b0c-4f00-82ec-92b0a1b544e7",
   "metadata": {},
   "outputs": [],
   "source": []
  },
  {
   "cell_type": "code",
   "execution_count": null,
   "id": "68c35151-c55e-49c9-a9d2-d1fd1f2f056c",
   "metadata": {},
   "outputs": [],
   "source": [
    "# xgb boost needs a ndarray as a training input\n",
    "xgb.fit(model.transform(train),y_train,verbose=True)\n"
   ]
  },
  {
   "cell_type": "code",
   "execution_count": null,
   "id": "b3bb46eb-a179-441a-a1d5-40fc7063b01e",
   "metadata": {},
   "outputs": [],
   "source": [
    "# plot feature importance\n",
    "# search.best_estimator_.named_steps\n",
    "from pandas.plotting import autocorrelation_plot\n",
    "\n",
    "\n",
    "feature_names = (model.named_steps['features'].named_transformers_['date_time_features'].feature_names() + \n",
    "                model.named_steps['features'].named_transformers_['lag_features'].feature_names())\n",
    "\n",
    "feature_imp = pd.DataFrame(sorted(zip(xgb.feature_importances_ ,feature_names)), columns=['Value','Feature'])\n",
    "\n",
    "# plt.figure(figsize=(20, 30))\n",
    "# sns.barplot(x=\"Value\", y=\"Feature\", data=feature_imp.sort_values(by=\"Value\", ascending=False).head(50))\n",
    "# plt.errorbar(feature_imp['Value'],feature_imp['Feature'])\n",
    "\n",
    "# plt.title('XGB Features')\n",
    "# plt.show()"
   ]
  },
  {
   "cell_type": "code",
   "execution_count": null,
   "id": "8d66ef52-08cf-4f0c-a37e-158b8aac2a7c",
   "metadata": {},
   "outputs": [],
   "source": [
    "feature_imp"
   ]
  },
  {
   "cell_type": "code",
   "execution_count": null,
   "id": "8a5580a5-49e7-437c-8ac7-cfadf50a34e2",
   "metadata": {},
   "outputs": [],
   "source": [
    "# plot_acf(feature_imp['Value'])\n",
    "# # mean of the lags grouped by user id\n",
    "# # this will\n"
   ]
  },
  {
   "cell_type": "code",
   "execution_count": null,
   "id": "42127a11-da8e-445b-8848-a1e80c905ac3",
   "metadata": {},
   "outputs": [],
   "source": [
    "f_n = []\n",
    "f_v = []\n",
    "for i,j in enumerate(feature_imp['Feature']):\n",
    "    if '_mean_' in feature_imp['Feature'][i]:\n",
    "        f_n.append(feature_imp.iloc[i]['Feature'])\n",
    "        f_v.append(feature_imp.iloc[i]['Value'])\n"
   ]
  },
  {
   "cell_type": "code",
   "execution_count": null,
   "id": "dcecd90c-9768-4b97-ac31-9a03017be414",
   "metadata": {},
   "outputs": [],
   "source": [
    "plt.figure(figsize=(25,15))\n",
    "plt.bar(f_n,f_v)"
   ]
  },
  {
   "cell_type": "code",
   "execution_count": null,
   "id": "285a618f-1073-4d81-b64f-72140564231d",
   "metadata": {},
   "outputs": [],
   "source": [
    "xgb.fit(model.transform(train), y_train)"
   ]
  },
  {
   "cell_type": "code",
   "execution_count": null,
   "id": "cc588e9f-cf17-467f-a3c4-e703136c9e69",
   "metadata": {},
   "outputs": [],
   "source": [
    "y_pred = xgb.predict(model.transform(test))\n"
   ]
  },
  {
   "cell_type": "code",
   "execution_count": null,
   "id": "777ba6a6-e662-4463-b57e-856c6baf5755",
   "metadata": {},
   "outputs": [],
   "source": [
    "# !pip install pmdarima\n",
    "# from pmdarima import auto_arima\n",
    "# df = pd.DataFrame()\n",
    "# df1 = pd.DataFrame()\n",
    "df3 = pd.DataFrame()"
   ]
  },
  {
   "cell_type": "code",
   "execution_count": null,
   "id": "15f52932-727c-4903-9853-3d77405d8e1c",
   "metadata": {},
   "outputs": [],
   "source": [
    "# df3 = train.groupby(['transaction_date'])['amount_n26_currency'].mean().reset_index()"
   ]
  },
  {
   "cell_type": "code",
   "execution_count": null,
   "id": "7431cd5a-5ba8-4922-91a6-abe137f47c5d",
   "metadata": {},
   "outputs": [],
   "source": [
    "df3 = train.groupby(['user_id'])['amount_n26_currency'].mean().reset_index()"
   ]
  },
  {
   "cell_type": "code",
   "execution_count": null,
   "id": "c4fb0cb0-6c9e-498b-96a6-f42fb8b42c52",
   "metadata": {},
   "outputs": [],
   "source": [
    "df3"
   ]
  },
  {
   "cell_type": "code",
   "execution_count": null,
   "id": "c809113d-63ea-431c-a5db-1eb3daeb0a8e",
   "metadata": {},
   "outputs": [],
   "source": [
    "df4 = test.groupby(['user_id'])['amount_n26_currency'].mean().reset_index()"
   ]
  },
  {
   "cell_type": "code",
   "execution_count": null,
   "id": "7b7e7850-e40f-47e7-84d0-75becf3ce28c",
   "metadata": {},
   "outputs": [],
   "source": [
    "# df3['grouped_userid_amount'] = train.groupby(['user_id'])['amount_n26_currency']\n",
    "# # df1['userid','grouped_userid_amount'] = train.groupby(['user_id'])['amount_n26_currency']\n",
    "\n",
    "# # f_std = train2.groupby([*feature, pd.Grouper(key='transaction_date',freq='W')])['amount_n26_currency'].std().reset_index()\n",
    "#df3['grouped_userid_amount'].iloc[1][1]"
   ]
  },
  {
   "cell_type": "code",
   "execution_count": null,
   "id": "c3262401-206b-4033-99a9-fa1bd58e732d",
   "metadata": {},
   "outputs": [],
   "source": [
    "auto_arima(df3['amount_n26_currency'],trace=True)"
   ]
  },
  {
   "cell_type": "code",
   "execution_count": null,
   "id": "63406dd8-64e9-4254-b267-7162fe8ef507",
   "metadata": {},
   "outputs": [],
   "source": [
    "auto_arima(df4['amount_n26_currency'],trace=True)"
   ]
  },
  {
   "cell_type": "code",
   "execution_count": null,
   "id": "0732be9f-c93d-4624-ae91-a39305df920a",
   "metadata": {},
   "outputs": [],
   "source": [
    "y_train_trial = np.log1p(df3['amount_n26_currency'])"
   ]
  },
  {
   "cell_type": "code",
   "execution_count": null,
   "id": "a934e1f0-987c-4d6c-9b36-82f981ea51a1",
   "metadata": {},
   "outputs": [],
   "source": [
    "xgb.fit(df3['amount_n26_currency'],y_train_trial)"
   ]
  },
  {
   "cell_type": "code",
   "execution_count": null,
   "id": "f99ff80f-9374-4522-8ce9-2751b467df00",
   "metadata": {},
   "outputs": [],
   "source": [
    "xgb.predict(df4['amount_n26_currency'])"
   ]
  },
  {
   "cell_type": "code",
   "execution_count": null,
   "id": "c0fe7671-d418-46d8-8e93-1ce0f17ee815",
   "metadata": {},
   "outputs": [],
   "source": [
    "y_train1 = np.array(y_train)"
   ]
  },
  {
   "cell_type": "code",
   "execution_count": null,
   "id": "f3242d45-d3a9-4e9e-b8b4-68d0b4c6f99b",
   "metadata": {},
   "outputs": [],
   "source": [
    "y_train1"
   ]
  },
  {
   "cell_type": "code",
   "execution_count": null,
   "id": "c26f774c-f87e-4d24-9d90-4435d99fb44a",
   "metadata": {},
   "outputs": [],
   "source": [
    "train\n"
   ]
  },
  {
   "cell_type": "code",
   "execution_count": null,
   "id": "6f4b4073-f190-46fa-9fdc-39b67d155b8e",
   "metadata": {},
   "outputs": [],
   "source": [
    "aa = RandomForestRegressor()"
   ]
  },
  {
   "cell_type": "code",
   "execution_count": null,
   "id": "685a7e81-6695-4574-b2f7-20b4cead82ab",
   "metadata": {},
   "outputs": [],
   "source": [
    "aa.fit(model.transform(train),y_train1)"
   ]
  },
  {
   "cell_type": "code",
   "execution_count": null,
   "id": "215e786e-9d17-4df1-9e6e-8312a70e55f8",
   "metadata": {},
   "outputs": [],
   "source": [
    "te"
   ]
  },
  {
   "cell_type": "code",
   "execution_count": null,
   "id": "e6301029-d3c8-4b29-b9c9-cbac92a93945",
   "metadata": {},
   "outputs": [],
   "source": [
    "y = aa.predict(model.transform(test))"
   ]
  },
  {
   "cell_type": "code",
   "execution_count": null,
   "id": "f3eb8c77-c925-4691-a008-6bb927d6dfb9",
   "metadata": {},
   "outputs": [],
   "source": [
    "y"
   ]
  },
  {
   "cell_type": "code",
   "execution_count": null,
   "id": "77b58dc9-8ffd-4ecd-a7d5-056243885593",
   "metadata": {},
   "outputs": [],
   "source": [
    "y_test "
   ]
  },
  {
   "cell_type": "code",
   "execution_count": null,
   "id": "f72e610a-3bcb-4f8e-a11f-738d75df316c",
   "metadata": {},
   "outputs": [],
   "source": [
    "bb = SGDRegressor()"
   ]
  },
  {
   "cell_type": "code",
   "execution_count": null,
   "id": "a235b5df-899e-49e0-a5df-22f91d294090",
   "metadata": {},
   "outputs": [],
   "source": [
    "aaa = bb.fit(model.transform(train),y_train1)"
   ]
  },
  {
   "cell_type": "code",
   "execution_count": null,
   "id": "dff1d930-842c-4464-8931-699971e83502",
   "metadata": {},
   "outputs": [],
   "source": [
    "yb = bb.predict(model.transform(test))"
   ]
  },
  {
   "cell_type": "code",
   "execution_count": null,
   "id": "e496a563-c609-4a3c-9a1d-023258c20631",
   "metadata": {},
   "outputs": [],
   "source": [
    "yb"
   ]
  },
  {
   "cell_type": "code",
   "execution_count": null,
   "id": "d18414bb-ad01-4589-9617-7a52c62c2f4c",
   "metadata": {},
   "outputs": [],
   "source": [
    "y_test"
   ]
  },
  {
   "cell_type": "code",
   "execution_count": null,
   "id": "5e2f60c6-75dd-485c-bfb5-ee1c7d8910cc",
   "metadata": {},
   "outputs": [],
   "source": [
    "plt.plot(y,color='green')\n"
   ]
  },
  {
   "cell_type": "code",
   "execution_count": null,
   "id": "390e6da7-b938-46b6-8209-771182fdb883",
   "metadata": {},
   "outputs": [],
   "source": [
    "plt.plot(y_test)"
   ]
  },
  {
   "cell_type": "code",
   "execution_count": null,
   "id": "2564a44c-fa14-447f-8a47-dc6275a34bbc",
   "metadata": {},
   "outputs": [],
   "source": [
    "from fbprophet import Prophet\n"
   ]
  },
  {
   "cell_type": "code",
   "execution_count": null,
   "id": "fcae0962-3756-4a93-952c-f3336c8d96e3",
   "metadata": {},
   "outputs": [],
   "source": [
    "train"
   ]
  },
  {
   "cell_type": "code",
   "execution_count": null,
   "id": "ce8a0839-85e3-45ed-bba1-65747297575e",
   "metadata": {},
   "outputs": [],
   "source": [
    "transformed_data = model.transform(train)"
   ]
  },
  {
   "cell_type": "code",
   "execution_count": null,
   "id": "228b8ba0-7ca1-4380-a91e-37c31c88be1e",
   "metadata": {},
   "outputs": [],
   "source": [
    "transformed_data = pd.DataFrame(transformed_data)\n"
   ]
  },
  {
   "cell_type": "code",
   "execution_count": null,
   "id": "6fb93bb4-acd9-4967-9e81-17d56adaa29a",
   "metadata": {},
   "outputs": [],
   "source": [
    "transformed_data"
   ]
  },
  {
   "cell_type": "code",
   "execution_count": null,
   "id": "58c08e7c-c094-4317-9c18-940b9db90f6c",
   "metadata": {},
   "outputs": [],
   "source": [
    "my_model = Prophet(interval_width=0.95)"
   ]
  },
  {
   "cell_type": "code",
   "execution_count": null,
   "id": "fd527f4a-885b-43a0-acc3-c208cdaf4fca",
   "metadata": {},
   "outputs": [],
   "source": [
    "subdf = train[['transaction_date','amount_n26_currency']]"
   ]
  },
  {
   "cell_type": "code",
   "execution_count": null,
   "id": "b6ea761f-06bf-4410-9797-f7c7555ddb9b",
   "metadata": {},
   "outputs": [],
   "source": [
    "train"
   ]
  },
  {
   "cell_type": "code",
   "execution_count": null,
   "id": "74319c4b-5518-4af3-a6b6-d273a465a7a8",
   "metadata": {},
   "outputs": [],
   "source": [
    "y_train"
   ]
  },
  {
   "cell_type": "code",
   "execution_count": null,
   "id": "fa92174a-ca9e-4e80-a15a-903c65b8fb14",
   "metadata": {},
   "outputs": [],
   "source": [
    "subdf_test = test[['transaction_date','amount_n26_currency']]"
   ]
  },
  {
   "cell_type": "code",
   "execution_count": null,
   "id": "fcd3d1c4-7afb-4de9-8cab-ff73c2a8e5ee",
   "metadata": {},
   "outputs": [],
   "source": [
    "subdf"
   ]
  },
  {
   "cell_type": "code",
   "execution_count": null,
   "id": "a2777097-15c5-4d20-b5b0-d1678414e48a",
   "metadata": {},
   "outputs": [],
   "source": [
    "subdf = subdf.rename(columns={'transaction_date':'ds', 'amount_n26_currency':'y'})\n",
    "subdf['y'] = original_log_train_data"
   ]
  },
  {
   "cell_type": "code",
   "execution_count": null,
   "id": "bd084b6f-2688-4c83-8749-0084d45deea0",
   "metadata": {},
   "outputs": [],
   "source": [
    "subdf"
   ]
  },
  {
   "cell_type": "code",
   "execution_count": null,
   "id": "49b8aeeb-c70d-407e-9beb-4b787375ebe3",
   "metadata": {},
   "outputs": [],
   "source": [
    "# subdf_test = subdf_test.rename(columns={'transaction_date':'ds', 'amount_n26_currency':'y'})\n",
    "# subdf_test['y'] = original_log_train_data"
   ]
  },
  {
   "cell_type": "code",
   "execution_count": null,
   "id": "c3e6fa78-4d60-497d-8902-7393f77df766",
   "metadata": {},
   "outputs": [],
   "source": [
    "m = Prophet()\n",
    "m.fit(subdf)"
   ]
  },
  {
   "cell_type": "code",
   "execution_count": null,
   "id": "157ac102-5992-4461-b2c2-d755507f05e5",
   "metadata": {},
   "outputs": [],
   "source": []
  },
  {
   "cell_type": "code",
   "execution_count": null,
   "id": "35bd48ac-3167-4a98-88e3-dcb68b58bc84",
   "metadata": {},
   "outputs": [],
   "source": [
    "# original_log_train_data = np.log1p(subdf['y'])"
   ]
  },
  {
   "cell_type": "code",
   "execution_count": null,
   "id": "fde8d601-583e-4c2a-9c50-474682eaa75f",
   "metadata": {},
   "outputs": [],
   "source": [
    "# from scipy.stats import norm\n",
    "# import statistics\n",
    "# x_axis = np.arange(-10, 10, 0.01)\n",
    "\n",
    "\n",
    "# mean = statistics.mean(original_log_train_data)\n",
    "# sd = statistics.stdev(original_log_train_data)\n",
    "  \n",
    "# plt.plot(x_axis, norm.pdf(x_axis, mean, sd))\n",
    "# plt.show()"
   ]
  },
  {
   "cell_type": "code",
   "execution_count": null,
   "id": "962b7787-cf88-4127-b5b3-b14f0c5b25c5",
   "metadata": {},
   "outputs": [],
   "source": [
    "future = m.make_future_dataframe(periods=31,freq='D')\n",
    "future1 = m.predict(future)"
   ]
  },
  {
   "cell_type": "code",
   "execution_count": null,
   "id": "0ec77d57-7dd6-40a1-bf25-013bda4e1164",
   "metadata": {},
   "outputs": [],
   "source": [
    "future1"
   ]
  },
  {
   "cell_type": "code",
   "execution_count": null,
   "id": "d75e844e-081d-4ba9-95ce-a96d3b26cda2",
   "metadata": {},
   "outputs": [],
   "source": [
    "plot1 = m.plot(future1)"
   ]
  },
  {
   "cell_type": "code",
   "execution_count": null,
   "id": "675d93f9-87cf-4c1e-b232-d6927999d7c4",
   "metadata": {},
   "outputs": [],
   "source": [
    "\n",
    "\n",
    "from fbprophet.plot import add_changepoints_to_plot\n",
    "fig = m.plot(future1)\n",
    "a = add_changepoints_to_plot(fig.gca(), m, future1)\n",
    "\n"
   ]
  },
  {
   "cell_type": "code",
   "execution_count": null,
   "id": "960c857c-7e23-4871-b985-3d2c79542c8f",
   "metadata": {},
   "outputs": [],
   "source": [
    "future2 = m.predict(subdf_test)\n",
    "plot3 = m.plot(future2)"
   ]
  },
  {
   "cell_type": "code",
   "execution_count": null,
   "id": "fab04189-a0fc-4d88-af38-874d8501db94",
   "metadata": {},
   "outputs": [],
   "source": [
    "plot2 = m.plot_components(future1)"
   ]
  },
  {
   "cell_type": "code",
   "execution_count": null,
   "id": "70507c2d-9519-40a3-b7ef-24db7b8dfd2a",
   "metadata": {},
   "outputs": [],
   "source": []
  },
  {
   "cell_type": "code",
   "execution_count": null,
   "id": "82a44885-1c7f-4c08-903a-83d6ae1cd2bb",
   "metadata": {},
   "outputs": [],
   "source": [
    "# y_pred = np.log1p(future1['yhat'])\n",
    "# y_test"
   ]
  },
  {
   "cell_type": "code",
   "execution_count": null,
   "id": "d93a5ddf-9521-4345-8184-0568e6f7d925",
   "metadata": {},
   "outputs": [],
   "source": [
    "\n",
    "\n",
    "from fbprophet.plot import add_changepoints_to_plot\n",
    "fig = m.plot(forecast)\n",
    "a = add_changepoints_to_plot(fig.gca(), m, forecast)\n",
    "\n"
   ]
  },
  {
   "cell_type": "code",
   "execution_count": null,
   "id": "fa784288-bd5c-489e-a823-262dd9c3e0c9",
   "metadata": {},
   "outputs": [],
   "source": []
  },
  {
   "cell_type": "code",
   "execution_count": null,
   "id": "c68516bc-50fa-4fe3-9d55-19789874c1a2",
   "metadata": {},
   "outputs": [],
   "source": [
    "plt.figure(figsize=(25,15))\n",
    "\n",
    "plt.bar(forecast['ds'],forecast['weekly'])"
   ]
  },
  {
   "cell_type": "code",
   "execution_count": null,
   "id": "23606181-c739-4e29-95a1-df939455ad0a",
   "metadata": {},
   "outputs": [],
   "source": []
  }
 ],
 "metadata": {
  "kernelspec": {
   "display_name": "Python 3",
   "language": "python",
   "name": "python3"
  },
  "language_info": {
   "codemirror_mode": {
    "name": "ipython",
    "version": 3
   },
   "file_extension": ".py",
   "mimetype": "text/x-python",
   "name": "python",
   "nbconvert_exporter": "python",
   "pygments_lexer": "ipython3",
   "version": "3.8.10"
  }
 },
 "nbformat": 4,
 "nbformat_minor": 5
}
