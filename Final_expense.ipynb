{
 "cells": [
  {
   "cell_type": "code",
   "execution_count": 1,
   "id": "269dce5c-325a-4837-a7cd-224498e58d77",
   "metadata": {},
   "outputs": [
    {
     "name": "stderr",
     "output_type": "stream",
     "text": [
      "Importing plotly failed. Interactive plots will not work.\n"
     ]
    }
   ],
   "source": [
    "import pandas as pd\n",
    "import re\n",
    "import seaborn as sns\n",
    "import matplotlib.pyplot as plt\n",
    "%matplotlib inline\n",
    "from IPython.display import display\n",
    "import numpy as np\n",
    "from sklearn.base import TransformerMixin, BaseEstimator\n",
    "from sklearn.pipeline import Pipeline\n",
    "from sklearn.compose import ColumnTransformer\n",
    "from sklearn.model_selection import RandomizedSearchCV\n",
    "from xgboost import XGBRegressor\n",
    "from sklearn.ensemble import RandomForestRegressor\n",
    "from sklearn.linear_model import SGDRegressor, RidgeCV, LassoCV\n",
    "from sklearn.metrics import mean_squared_log_error, r2_score, make_scorer\n",
    "from sklearn.model_selection import learning_curve\n",
    "from scipy.stats import norm\n",
    "from pmdarima import auto_arima\n",
    "from statsmodels.graphics.tsaplots import plot_acf\n",
    "from fbprophet import Prophet\n",
    "from fbprophet.plot import add_changepoints_to_plot\n",
    "import statsmodels.api as sm\n",
    "from sklearn.metrics import mean_squared_error"
   ]
  },
  {
   "cell_type": "code",
   "execution_count": 2,
   "id": "a96d33a5-1467-449e-bfc0-3c98a09e0894",
   "metadata": {},
   "outputs": [],
   "source": [
    "train = pd.read_csv('training.csv', parse_dates=['transaction_date'])\n",
    "card_group = pd.read_csv('mcc_group_definition.csv')\n",
    "transaction = pd.read_csv('transaction_types.csv')\n"
   ]
  },
  {
   "cell_type": "code",
   "execution_count": 3,
   "id": "8b1c80f0-9ced-4e68-aefd-9d74513456ea",
   "metadata": {},
   "outputs": [],
   "source": [
    "train = train.drop(['dataset_transaction','dataset_user'], axis=1)\n",
    "# merge data\n",
    "train2 = train.merge(card_group, on='mcc_group', how='left').drop('mcc_group', axis=1)\n",
    "\n",
    "train2 = (train2\n",
    "          .merge(transaction, left_on='transaction_type', right_on='type', suffixes=('_card', '_transaction'))\n",
    "          .drop(['type','transaction_type'], axis=1))\n"
   ]
  },
  {
   "cell_type": "markdown",
   "id": "df5800e2-945b-4686-9b83-ab36023d5a24",
   "metadata": {},
   "source": [
    "## The data of primary interest which is the amount_n26_currecy is clearly postively sckwed"
   ]
  },
  {
   "cell_type": "code",
   "execution_count": 4,
   "id": "12f30da8-7fdd-4bbc-8cee-d6749c05f6e7",
   "metadata": {},
   "outputs": [],
   "source": [
    "# X = train2.values\n",
    "# history = [X[i] for i in range(10)]\n",
    "# yhat = np.mean([history[i] for i in range(10)])\n"
   ]
  },
  {
   "cell_type": "code",
   "execution_count": null,
   "id": "46eb8ab7-daa9-4962-9bd8-ed59c3c75a53",
   "metadata": {},
   "outputs": [],
   "source": []
  },
  {
   "cell_type": "code",
   "execution_count": 5,
   "id": "6e877515-7d4e-4ce0-8a3e-8fc08ed7a0e1",
   "metadata": {},
   "outputs": [
    {
     "data": {
      "image/png": "[encoded data removed]",
      "text/plain": [
       "<Figure size 720x504 with 1 Axes>"
      ]
     },
     "metadata": {
      "needs_background": "light"
     },
     "output_type": "display_data"
    }
   ],
   "source": [
    "plt.figure(figsize=(10, 7))\n",
    "plt.hist(train2.amount_n26_currency, bins=50,rwidth=0.8,density=True)\n",
    "# plt.show()\n",
    "rng = np.arange(train2.amount_n26_currency.min(), train2.amount_n26_currency.max(), 0.1)\n",
    "plt.plot(rng,norm.pdf(rng,train2.amount_n26_currency.mean(),train2.amount_n26_currency.std()))\n",
    "# plt.vlines(, 0, 0.05, color='crimson', ls=':',lw=2, label='mean')\n",
    "plt.axvline(train2.amount_n26_currency.mean(),ls=':',lw=2, color='b', label= 'mean = '+str(train2.amount_n26_currency.mean()))\n",
    "plt.xlabel('amount_n26_currency')\n",
    "plt.ylabel('')\n",
    "plt.legend()\n",
    "plt.show()"
   ]
  },
  {
   "cell_type": "code",
   "execution_count": 6,
   "id": "84a31002-0892-4127-853d-7b47d20d052b",
   "metadata": {},
   "outputs": [
    {
     "data": {
      "text/plain": [
       "array(['Debit Transfer', 'Credit Transfer', 'Debit Reversal',\n",
       "       'MoneyBeam Transfer', 'Direct Debit', 'Presentment',\n",
       "       'Cash26 deposit', 'Cash26 withdrawal', 'Transferwise Transaction'],\n",
       "      dtype=object)"
      ]
     },
     "execution_count": 6,
     "metadata": {},
     "output_type": "execute_result"
    }
   ],
   "source": [
    "train2['explanation_transaction'].unique()"
   ]
  },
  {
   "cell_type": "markdown",
   "id": "8c4ee40f-6362-430b-93bd-2b6f9ea561dd",
   "metadata": {},
   "source": [
    "## we can deal with this by log transforming the series\n"
   ]
  },
  {
   "cell_type": "code",
   "execution_count": 7,
   "id": "50826878-4eec-4f78-a561-e332addbe86a",
   "metadata": {},
   "outputs": [],
   "source": [
    "# # log_amont = np.log(train2.amount_n26_currency)\n",
    "# train2.amount_n26_currency = np.log(train2.amount_n26_currency)\n",
    "# # test the skew\n",
    "# # log_amont.skew() \n",
    "# plt.hist(train2.amount_n26_currency, bins=100,rwidth=0.8,density=True)\n",
    "# # plt.show()\n",
    "# rng = np.arange(train2.amount_n26_currency.min(), train2.amount_n26_currency.max(), 0.1)\n",
    "# plt.plot(rng,norm.pdf(rng,train2.amount_n26_currency.mean(),train2.amount_n26_currency.std()))\n",
    "# plt.axvline(train2.amount_n26_currency.mean(),ls=':',lw=2, color='b', label= 'mean = '+str(train2.amount_n26_currency.mean()))\n",
    "# plt.xlabel('amount_n26_currency')\n",
    "# plt.ylabel('')\n",
    "# plt.legend()\n",
    "# plt.show()"
   ]
  },
  {
   "cell_type": "markdown",
   "id": "8bd9d801-5fa5-4364-82ef-8034bab1999e",
   "metadata": {},
   "source": [
    "## The log transformation has clearly showed some progress in terms of the data "
   ]
  },
  {
   "cell_type": "code",
   "execution_count": 8,
   "id": "449a8b98-cb14-4b2e-be11-e888fa5d2f8f",
   "metadata": {},
   "outputs": [],
   "source": [
    "## add code for outlier detection"
   ]
  },
  {
   "cell_type": "markdown",
   "id": "1f5d1e43-a86c-4d76-b7f0-a613c5bab83f",
   "metadata": {},
   "source": [
    "# observing weekly trends\n"
   ]
  },
  {
   "cell_type": "code",
   "execution_count": 9,
   "id": "5c59af46-5691-42f5-aa76-a2bc1a0e3a04",
   "metadata": {},
   "outputs": [],
   "source": [
    "# aggregate the last 2 functions\n",
    "\n",
    "def plot_bar(feature,data):\n",
    "    g = sns.catplot(x=feature, \n",
    "                    data=data,\n",
    "                    order = data[feature].value_counts().index,\n",
    "                    kind='count', \n",
    "                    height=7, \n",
    "                    aspect = 3, \n",
    "                    palette=\"Paired\", \n",
    "                    edgecolor=\".6\")\n",
    "    g.set_xticklabels(rotation=90)\n",
    "\n",
    "def weekly_popularity_trend(feature):\n",
    "    \"\"\"\n",
    "    Feature popularity on weekly basis\n",
    "    \"\"\"\n",
    "    f = train2.groupby([feature, pd.Grouper(key='transaction_date',freq='W')]).size().reset_index()\n",
    "    f['transaction_date'] = f['transaction_date'].dt.date\n",
    "    f.columns = [feature,'transaction_date','count']\n",
    "    sns.catplot(x=\"transaction_date\", \n",
    "            y = 'count',\n",
    "            hue = feature, \n",
    "            data=f, \n",
    "            kind='point', \n",
    "            height=7, \n",
    "            aspect= 1,\n",
    "            palette='Paired')\n",
    "    _ = plt.xticks(rotation=90)\n",
    "    \n",
    "    \n",
    "def weekly_currency_trend(feature):\n",
    "    \"\"\"\n",
    "    Mean transaction amount on a weekly basis for a given feature\n",
    "    \"\"\"\n",
    "#    weekly spending trend to get an idea about \n",
    "    f = train2.groupby([*feature, pd.Grouper(key='transaction_date',freq='W')])['amount_n26_currency'].mean().reset_index()\n",
    "    f_std = train2.groupby([*feature, pd.Grouper(key='transaction_date',freq='W')])['amount_n26_currency'].std().reset_index()\n",
    "    f['transaction_date'] = f['transaction_date'].dt.date\n",
    "    \n",
    "    f_std['transaction_date'] = f_std['transaction_date'].dt.date\n",
    "    f.columns = [*feature,'transaction_date','mean']\n",
    "    f_std.columns = [*feature,'transaction_date','std']\n",
    "    \n",
    "    f_final = f.merge(f_std)\n",
    "    hue = feature[0]\n",
    "    \n",
    "    # correlating features or maybe not! \n",
    "    if feature[1]:\n",
    "        g = sns.catplot(x=\"transaction_date\", \n",
    "                y = 'mean',\n",
    "                hue = feature[0],\n",
    "                col = feature[1],\n",
    "                data=f, \n",
    "                kind='point', \n",
    "                height = 7,\n",
    "                aspect = 1.5,\n",
    "                palette=sns.color_palette(\"bright\", 10)\n",
    "                )\n",
    "        g.set_xticklabels(rotation=90)\n",
    "    else:\n",
    "        g = sns.catplot(x=\"transaction_date\", \n",
    "        y = 'mean',\n",
    "        hue = feature[0],\n",
    "        col = feature[1],\n",
    "        data=f, \n",
    "        kind='point', \n",
    "        height = 7,\n",
    "        aspect = 1.5,\n",
    "        palette=sns.color_palette(\"bright\", 10)\n",
    "        )\n",
    "        g.set_xticklabels(rotation=90)\n",
    "        autocorrelation_plot(f['mean'])\n",
    "#     x = np.arange(len(f['mean']))\n",
    "#   plt.errorbar(x,f_final['mean'],yerr=f_final['std'])\n"
   ]
  },
  {
   "cell_type": "code",
   "execution_count": 10,
   "id": "73af8bf4-61f5-438f-84f8-99e413421807",
   "metadata": {},
   "outputs": [
    {
     "data": {
      "image/png": "[encoded data removed]",
      "text/plain": [
       "<Figure size 1670.88x504 with 2 Axes>"
      ]
     },
     "metadata": {
      "needs_background": "light"
     },
     "output_type": "display_data"
    }
   ],
   "source": [
    "# does not make sense to make a error bar for the direction\n",
    "weekly_currency_trend(feature = ['explanation_transaction','direction'])\n",
    "\n"
   ]
  },
  {
   "cell_type": "markdown",
   "id": "cf2aa6ab-feae-472c-9fc6-a58bde768c8d",
   "metadata": {},
   "source": [
    "# At the end of each month major income occures as should be"
   ]
  },
  {
   "cell_type": "markdown",
   "id": "4d8f6ea4-1b9c-4f28-be30-7b434e202c5a",
   "metadata": {},
   "source": [
    "## Feature Engineering date"
   ]
  },
  {
   "cell_type": "code",
   "execution_count": 11,
   "id": "303309fb-e7ef-4981-a1d8-d4df69a4014f",
   "metadata": {},
   "outputs": [],
   "source": [
    "class feature_engineering_datetime(TransformerMixin, BaseEstimator):\n",
    "    \n",
    "\n",
    "    def fit(self, data, label=None):\n",
    "        return self\n",
    "\n",
    "    def transform(self, data, label = None):\n",
    "        data[f\"{'transaction'}_weekday\"] = data['transaction_date'].dt.dayofweek\n",
    "        data[f\"{'transaction'}_week\"] = data['transaction_date'].dt.isocalendar().week\n",
    "        data[f\"{'transaction'}_day_week\"] = data['transaction_date'].dt.day\n",
    "#         data[f\"{'transaction'}_week_year\"] = data['transaction_date'].dt.year\n",
    "        self.names = data[[x for x in data.columns if 'prev_' in x]].columns.tolist()\n",
    "       \n",
    "        return data[(elem for elem in data.columns if '_week' in elem)].values\n",
    "    def feature_names(self):\n",
    "        return self.names"
   ]
  },
  {
   "cell_type": "code",
   "execution_count": 12,
   "id": "a588f31a-0b8b-4d1d-9dfd-e1c32e6986de",
   "metadata": {},
   "outputs": [],
   "source": [
    "class feature_engineering(TransformerMixin, BaseEstimator):\n",
    "    \n",
    "\n",
    "    def fit(self, data, label=None):\n",
    "        return self\n",
    "\n",
    "    def transform(self, data, label = None):\n",
    "        #lags= [1,5,7,14]\n",
    "        lags = [7,14]\n",
    "        for lag in lags:\n",
    "            print('in timestamp of lags')\n",
    "        # lag feature\n",
    "        #A moving average is commonly used with time series data to smooth out short-term fluctuations and highlight longer-term trends or cycles.\n",
    "            data[f'prev_amount_mean_{lag}'] = data.groupby(['user_id'])['amount_n26_currency'].shift(lag).fillna(0)\n",
    "#             # rolling average\n",
    "            # grouping by the user id and then calculating the mean. Makes sense\n",
    "            data[f'prev_amount_rolling_mean_{lag}'] = data.groupby(['user_id'])['amount_n26_currency'].shift(lag).rolling(2).mean().fillna(0)\n",
    "#             # cumulative average\n",
    "            data[f'prev_amount_expand_mean_{lag}'] = data.groupby(['user_id'])['amount_n26_currency'].shift(lag).expanding().mean().fillna(0)\n",
    "#             # exponential moving average\n",
    "            data[f'prev_amount_ewm_mean_{lag}'] = data.groupby(['user_id'])['amount_n26_currency'].shift(lag).ewm(0.1).mean().fillna(0)\n",
    "         \n",
    "#             # rolling average\n",
    "            # grouping by the user id and then calculating the mean. Makes sense\n",
    "            data[f'prev_amount_rolling_std_{lag}'] = data.groupby(['user_id'])['amount_n26_currency'].shift(lag).rolling(2).std().fillna(0)\n",
    "#             # cumulative average\n",
    "            data[f'prev_amount_expand_std_{lag}'] = data.groupby(['user_id'])['amount_n26_currency'].shift(lag).expanding().std().fillna(0)\n",
    "#             # exponential moving average\n",
    "            data[f'prev_amount_ewm_std_{lag}'] = data.groupby(['user_id'])['amount_n26_currency'].shift(lag).ewm(0.1).std().fillna(0)\n",
    "         \n",
    "            ##\n",
    "#             # rolling average\n",
    "            # grouping by the user id and then calculating the mean. Makes sense\n",
    "            data[f'prev_amount_rolling_min_{lag}'] = data.groupby(['user_id'])['amount_n26_currency'].shift(lag).rolling(2).min().fillna(0)\n",
    "#             # cumulative average\n",
    "            data[f'prev_amount_expand_min_{lag}'] = data.groupby(['user_id'])['amount_n26_currency'].shift(lag).expanding().min().fillna(0)\n",
    "#             # exponential moving average\n",
    "#             data[f'prev_amount_ewm_min_{lag}'] = data.groupby(['user_id'])['amount_n26_currency'].shift(lag).ewm(0.1).min().fillna(0)\n",
    "         \n",
    "        \n",
    "        #             # rolling average\n",
    "            # grouping by the user id and then calculating the mean. Makes sense\n",
    "            data[f'prev_amount_rolling_max_{lag}'] = data.groupby(['user_id'])['amount_n26_currency'].shift(lag).rolling(2).max().fillna(0)\n",
    "#             # cumulative average\n",
    "            data[f'prev_amount_expand_max_{lag}'] = data.groupby(['user_id'])['amount_n26_currency'].shift(lag).expanding().max().fillna(0)\n",
    "#             # exponential moving average\n",
    "#             data[f'prev_amount_ewm_max_{lag}'] = data.groupby(['user_id'])['amount_n26_currency'].shift(lag).ewm(0.1).max().fillna(0)\n",
    "         \n",
    "        \n",
    "        self.names = data[[x for x in data.columns if 'prev_' in x]].columns.tolist()\n",
    "#         if label:\n",
    "#             y = df[label]\n",
    "#             return data[[x for x in data.columns if 'prev_' in x]].values, y.values\n",
    "    \n",
    "        return data[[x for x in data.columns if 'prev_' in x]].values\n",
    "        \n",
    "\n",
    "    def feature_names(self):\n",
    "        return self.names\n",
    "    "
   ]
  },
  {
   "cell_type": "code",
   "execution_count": 13,
   "id": "49d7e040-d7d4-4e9e-9e67-dc5d4526a0ff",
   "metadata": {},
   "outputs": [],
   "source": [
    "# def feature_engineering_arima(data):\n",
    "#     np.log(data['am'])"
   ]
  },
  {
   "cell_type": "markdown",
   "id": "52fb3323-8521-4b21-b34d-7669a582bed3",
   "metadata": {},
   "source": [
    "## pipeline creation for the model\n"
   ]
  },
  {
   "cell_type": "code",
   "execution_count": 14,
   "id": "036b6fa0-8c5e-48fc-b877-d76945d1d20d",
   "metadata": {},
   "outputs": [],
   "source": [
    "# Feature transformation pipeline\n",
    "# It combines all sorts of features that are transformed and combine them\n",
    "# to generate an output\n",
    "def generate_pipeline(**kwargs):\n",
    "    \n",
    "\n",
    "    features = ColumnTransformer(\n",
    "        [('date_time_features',feature_engineering_datetime(), ['transaction_date']),\n",
    "         ('lag_features',feature_engineering(), ['user_id','amount_n26_currency'])\n",
    "        ],  \n",
    "        remainder='drop',\n",
    "        sparse_threshold=0.3,\n",
    "        n_jobs=None,\n",
    "        transformer_weights=None\n",
    "    )\n",
    "\n",
    "    \n",
    "#     # can use any sklearn estimator\n",
    "#     clf = XGBRegressor(n_estimators=100, random_state=42, booster='gbtree')\n",
    "        \n",
    "  \n",
    "    feature_transformer = Pipeline([\n",
    "        ('features', features),\n",
    "        # ('clf', clf)\n",
    "    ]) \n",
    "    return feature_transformer"
   ]
  },
  {
   "cell_type": "code",
   "execution_count": 15,
   "id": "269b143f-3f15-425c-bb2b-428e8005f0a3",
   "metadata": {},
   "outputs": [],
   "source": [
    "in_data, out_data= train2[(mask:=train2['direction'] == \"In\")], train2[~mask]\n",
    "out_data = out_data.drop(['direction','explanation_card','explanation_transaction','agent'], axis=1)"
   ]
  },
  {
   "cell_type": "markdown",
   "id": "056821ef-f26f-4f25-85ec-5e7df00d56fd",
   "metadata": {},
   "source": [
    "## Segregatting in data for income prediction"
   ]
  },
  {
   "cell_type": "code",
   "execution_count": 52,
   "id": "0965a6d9-f6b3-42b0-98ee-0eb07dbe3452",
   "metadata": {},
   "outputs": [],
   "source": [
    "out_data = out_data.sort_values(['user_id','transaction_date']).reset_index(drop=True)\n",
    "# split data set \n",
    "train = out_data[out_data['transaction_date'].dt.month < 7].reset_index(drop=True) # from feb to june\n",
    "test = out_data[out_data['transaction_date'].dt.month == 7].reset_index(drop=True) # test july\n",
    "y_train = np.log1p(train['amount_n26_currency'])\n",
    "y_test = np.log1p(test['amount_n26_currency'])"
   ]
  },
  {
   "cell_type": "code",
   "execution_count": null,
   "id": "01aeb25c-b307-404e-a72d-572e36a70760",
   "metadata": {},
   "outputs": [],
   "source": [
    "type(y_train)"
   ]
  },
  {
   "cell_type": "code",
   "execution_count": null,
   "id": "017fdf3d-17c9-4f69-b100-8f768d0b5441",
   "metadata": {},
   "outputs": [],
   "source": []
  },
  {
   "cell_type": "code",
   "execution_count": null,
   "id": "234f5aa9-77cd-4c35-9aa6-34d6747d40c5",
   "metadata": {},
   "outputs": [],
   "source": [
    "# def autocorrelationplot()"
   ]
  },
  {
   "cell_type": "code",
   "execution_count": null,
   "id": "0fae5980-b4d9-4fe8-a8cc-fa6d757695be",
   "metadata": {},
   "outputs": [],
   "source": [
    "def transformed_features(train):\n",
    "    features = generate_pipeline()# fit and transforming the data\n",
    "    features.fit(train)\n",
    "    transformed_data = features.transform(train)\n",
    "    return transformed_data"
   ]
  },
  {
   "cell_type": "code",
   "execution_count": null,
   "id": "4e92bc25-66f4-4146-8913-63d1764fabed",
   "metadata": {},
   "outputs": [],
   "source": [
    "# # cut out autoarima and make arima.\n",
    "# # Auto arima is screwed!\n",
    "# def auto_arima_model(train,test):\n",
    "#     stepwise_model = auto_arima(train['amount_n26_currency'], start_p=1, start_q=1,\n",
    "#                                max_p=3, max_q=3, m=7,\n",
    "#                                start_P=0, seasonal=False,\n",
    "#                                d=1, D=1, trace=True,\n",
    "#                                error_action='ignore',  \n",
    "#                                suppress_warnings=True, \n",
    "#                                stepwise=True)\n",
    "#     stepwise_model.aic()\n",
    "#     stepwise_model.fit(train['amount_n26_currency'])\n",
    "#     stepwise_model.predict()\n",
    "#     future_forecast = stepwise_model.predict(n_periods=len(test))\n",
    "#     future_forecast = pd.DataFrame(future_forecast,\n",
    "#                                    index=test.index,\n",
    "#                                    columns=['prediction'])\n",
    "#     return future_forecast\n",
    "# #     pd.concat([test, future_forecast], axis=1).iplot()\n"
   ]
  },
  {
   "cell_type": "markdown",
   "id": "668f30fd-ecd3-4bd9-a176-da3ff90bfb83",
   "metadata": {},
   "source": [
    "# let us test auto arima for tuning lags\n"
   ]
  },
  {
   "cell_type": "code",
   "execution_count": null,
   "id": "a35dee68-3fd3-4e53-8c3f-a260202fe2bd",
   "metadata": {},
   "outputs": [],
   "source": [
    "# train_arima = out_data[out_data['transaction_date'].dt.month <= 7].reset_index(drop=True) # from feb to july\n",
    "# # test dataset does not change. It is same as test\n",
    "# future_forecast = auto_arima_model(train_arima,test)"
   ]
  },
  {
   "cell_type": "code",
   "execution_count": null,
   "id": "bca1fe80-30a3-4a51-a506-b191988373b6",
   "metadata": {},
   "outputs": [],
   "source": [
    "# ## concatenate the future and train values from the date of the test series \n",
    "# x = np.arange(len(test))\n",
    "# auto_arima_preds = pd.concat([test,future_forecast],axis=1)"
   ]
  },
  {
   "cell_type": "code",
   "execution_count": null,
   "id": "4cf3b5f9-2a97-4d9b-9fcd-e2828a84341c",
   "metadata": {},
   "outputs": [],
   "source": [
    "# train_with_july = out_data[out_data['transaction_date'].dt.month <= 7].reset_index(drop=True) # from feb to july\n"
   ]
  },
  {
   "cell_type": "markdown",
   "id": "2444d205-66b3-4d97-a05d-523c290aa0dd",
   "metadata": {},
   "source": [
    "## prophet model\n",
    "\n"
   ]
  },
  {
   "cell_type": "code",
   "execution_count": null,
   "id": "2e2cedfc-d11a-400b-b57b-4839aed9f89a",
   "metadata": {},
   "outputs": [],
   "source": [
    "def prophet_model(train):\n",
    "    model = Prophet(interval_width=0.95)\n",
    "    train_subdf = train[['transaction_date','amount_n26_currency']]\n",
    "    train_subdf = train_subdf.rename(columns={'transaction_date':'ds', 'amount_n26_currency':'y'})\n",
    "#     subdf['y'] = original_log_train_data\n",
    "    model.fit(train_subdf)\n",
    "    # period = 31 for 31 days in August. \n",
    "    future_dataframe = model.make_future_dataframe(periods=31,freq='D')\n",
    "    future_forecast = model.predict(future_dataframe)\n",
    "\n",
    "    return model, future_forecast"
   ]
  },
  {
   "cell_type": "code",
   "execution_count": null,
   "id": "b20ef76e-0dba-47fb-88bc-f7f89197e50f",
   "metadata": {},
   "outputs": [],
   "source": [
    "def plot_prophet(model, future_forecast_prophet):\n",
    "    plt.figure(figsize=(25,15))\n",
    "    plot2 = model.plot_components(future_forecast_prophet)\n",
    "    fig = model.plot(future_forecast_prophet)\n",
    "    a = add_changepoints_to_plot(fig.gca(), model,future_forecast_prophet)\n",
    "#     plt.bar(future_forecast_prophet['ds'],future_forecast_prophet['weekly'])\n",
    "\n",
    "    "
   ]
  },
  {
   "cell_type": "code",
   "execution_count": null,
   "id": "a1576cbc-f9c4-4351-aca6-abdb59e7725c",
   "metadata": {},
   "outputs": [],
   "source": [
    "model, future_forecast_prophet = prophet_model(train_with_july)\n",
    "plot_prophet(model, future_forecast_prophet)"
   ]
  },
  {
   "cell_type": "code",
   "execution_count": null,
   "id": "5f4b140e-4332-43ef-afeb-c23071503b50",
   "metadata": {},
   "outputs": [],
   "source": [
    "future_forecast_prophet\n",
    "# review trend\n",
    "plt.plot(future_forecast_prophet['yhat'])"
   ]
  },
  {
   "cell_type": "code",
   "execution_count": null,
   "id": "c5aff792-7980-4f54-a396-338434aee8bd",
   "metadata": {},
   "outputs": [],
   "source": [
    "# def arima_model(train,test):\n",
    "#     history = [x for x in train['amount_n26_currency']]\n",
    "#     predictions = list()\n",
    "    \n",
    "#     for t in range(len(test)):\n",
    "#         model = sm.tsa.arima.ARIMA(history, order=(1,1,2))\n",
    "#         model_fit = model.fit()\n",
    "#         output = model_fit.forecast()\n",
    "#         yhat = output[0]\n",
    "#         predictions.append(yhat)\n",
    "#         obs = test['amount_n26_currency'][t]\n",
    "#         history.append(obs)\n",
    "#         print('predicted=%f, expected=%f' % (yhat, obs))\n",
    "        \n",
    "#     rmse = np.sqrt(mean_squared_error(test, predictions))\n",
    "#     print('Test RMSE: %.3f' % rmse)\n",
    "#     # plot forecasts against actual outcomes\n",
    "#     pyplot.plot(test)\n",
    "#     pyplot.plot(predictions, color='red')\n",
    "#     pyplot.show()\n",
    "#     return predictions\n",
    "# #     print(model_fit.summary())\n",
    "# #     residuals = pd.DataFrame(model_fit.resid)\n",
    "# #     plt.figure(figsize=(15,15))\n",
    "# #     fig, ax = plt.subplots(1,2)\n",
    "# #     residuals.plot(title=\"Residuals\", ax=ax[0])\n",
    "# #     residuals.plot(kind='kde', title='Density', ax=ax[1])\n",
    "# #     forecast_arima = model_fit.forecast()\n",
    "# #     plt.show()\n",
    "# #     return forecast_arima\n",
    "\n"
   ]
  },
  {
   "cell_type": "code",
   "execution_count": null,
   "id": "1e7efbca-deb1-4415-8828-15045d8d49a5",
   "metadata": {},
   "outputs": [],
   "source": [
    "arima_forecast = arima_model(train_with_july,test)"
   ]
  },
  {
   "cell_type": "code",
   "execution_count": 49,
   "id": "056013df-4c31-4c6d-9744-471d657f1db5",
   "metadata": {},
   "outputs": [],
   "source": [
    "model = generate_pipeline()\n",
    "\n",
    "xgb = XGBRegressor(objective='reg:squarederror', n_estimators=1000)\n",
    "# model.fit(model.transform(train),)"
   ]
  },
  {
   "cell_type": "code",
   "execution_count": 50,
   "id": "8f6134e6-3740-45a5-b2a6-e966fe7b8383",
   "metadata": {},
   "outputs": [
    {
     "name": "stdout",
     "output_type": "stream",
     "text": [
      "in timestamp of lags\n",
      "in timestamp of lags\n"
     ]
    },
    {
     "data": {
      "text/plain": [
       "Pipeline(steps=[('features',\n",
       "                 ColumnTransformer(transformers=[('date_time_features',\n",
       "                                                  feature_engineering_datetime(),\n",
       "                                                  ['transaction_date']),\n",
       "                                                 ('lag_features',\n",
       "                                                  feature_engineering(),\n",
       "                                                  ['user_id',\n",
       "                                                   'amount_n26_currency'])]))])"
      ]
     },
     "execution_count": 50,
     "metadata": {},
     "output_type": "execute_result"
    }
   ],
   "source": [
    "model.fit(train)"
   ]
  },
  {
   "cell_type": "code",
   "execution_count": 53,
   "id": "6e772be3-f151-4494-86bd-57175226431a",
   "metadata": {},
   "outputs": [
    {
     "name": "stdout",
     "output_type": "stream",
     "text": [
      "in timestamp of lags\n",
      "in timestamp of lags\n"
     ]
    },
    {
     "data": {
      "text/plain": [
       "XGBRegressor(base_score=0.5, booster='gbtree', colsample_bylevel=1,\n",
       "             colsample_bynode=1, colsample_bytree=1, enable_categorical=False,\n",
       "             gamma=0, gpu_id=-1, importance_type=None,\n",
       "             interaction_constraints='', learning_rate=0.300000012,\n",
       "             max_delta_step=0, max_depth=6, min_child_weight=1, missing=nan,\n",
       "             monotone_constraints='()', n_estimators=1000, n_jobs=12,\n",
       "             num_parallel_tree=1, predictor='auto', random_state=0, reg_alpha=0,\n",
       "             reg_lambda=1, scale_pos_weight=1, subsample=1, tree_method='exact',\n",
       "             validate_parameters=1, verbosity=None)"
      ]
     },
     "execution_count": 53,
     "metadata": {},
     "output_type": "execute_result"
    }
   ],
   "source": [
    "xgb.fit(model.transform(train), y_train)"
   ]
  },
  {
   "cell_type": "code",
   "execution_count": 55,
   "id": "c6181dd0-b3f7-47f3-bd60-705be8f8e878",
   "metadata": {},
   "outputs": [
    {
     "data": {
      "text/plain": [
       "2.302585092994046"
      ]
     },
     "execution_count": 55,
     "metadata": {},
     "output_type": "execute_result"
    }
   ],
   "source": [
    "y_test[0]"
   ]
  },
  {
   "cell_type": "code",
   "execution_count": 56,
   "id": "9e33dee4-f45a-438e-a8bc-8bb91a5fd5b8",
   "metadata": {},
   "outputs": [
    {
     "name": "stdout",
     "output_type": "stream",
     "text": [
      "in timestamp of lags\n",
      "in timestamp of lags\n"
     ]
    }
   ],
   "source": [
    "o = model.transform(test)"
   ]
  },
  {
   "cell_type": "code",
   "execution_count": null,
   "id": "f7f40f9b-8bed-4bc0-91bc-cfd7de566def",
   "metadata": {},
   "outputs": [],
   "source": [
    "np.shape(y_train)"
   ]
  },
  {
   "cell_type": "code",
   "execution_count": 60,
   "id": "23caf529-a81c-413d-bacc-82c3c8267929",
   "metadata": {},
   "outputs": [
    {
     "name": "stdout",
     "output_type": "stream",
     "text": [
      "in timestamp of lags\n",
      "in timestamp of lags\n"
     ]
    },
    {
     "data": {
      "text/plain": [
       "(277463, 25)"
      ]
     },
     "execution_count": 60,
     "metadata": {},
     "output_type": "execute_result"
    }
   ],
   "source": [
    "np.shape(model.transform(train))"
   ]
  },
  {
   "cell_type": "code",
   "execution_count": 65,
   "id": "362ff4bd-22b3-4e59-a9df-1509acd4e92b",
   "metadata": {},
   "outputs": [
    {
     "name": "stdout",
     "output_type": "stream",
     "text": [
      "in timestamp of lags\n",
      "in timestamp of lags\n"
     ]
    },
    {
     "data": {
      "text/plain": [
       "array([[2, 27, 6, ..., 0.0, 0.0, 0.0],\n",
       "       [3, 27, 7, ..., 0.0, 0.0, 0.0],\n",
       "       [2, 28, 13, ..., 0.0, 0.0, 0.0],\n",
       "       ...,\n",
       "       [3, 29, 21, ..., 3.0, 18.0, 1160.0],\n",
       "       [6, 29, 24, ..., 3.0, 18.0, 1160.0],\n",
       "       [1, 30, 26, ..., 3.0, 45.0, 1160.0]], dtype=object)"
      ]
     },
     "execution_count": 65,
     "metadata": {},
     "output_type": "execute_result"
    }
   ],
   "source": [
    "model.transform(test)"
   ]
  },
  {
   "cell_type": "code",
   "execution_count": 63,
   "id": "519fd29e-f2a9-4db1-aa37-ff32dbb62d6d",
   "metadata": {},
   "outputs": [
    {
     "name": "stdout",
     "output_type": "stream",
     "text": [
      "in timestamp of lags\n",
      "in timestamp of lags\n"
     ]
    },
    {
     "data": {
      "text/plain": [
       "(58958, 25)"
      ]
     },
     "execution_count": 63,
     "metadata": {},
     "output_type": "execute_result"
    }
   ],
   "source": [
    "np.shape(model.transform(test))"
   ]
  },
  {
   "cell_type": "code",
   "execution_count": 70,
   "id": "59cd5e57-9c66-46f5-91c9-d5653c191009",
   "metadata": {},
   "outputs": [],
   "source": [
    "say = o[0]"
   ]
  },
  {
   "cell_type": "code",
   "execution_count": 72,
   "id": "85e533b7-7653-4e28-b1dd-6c4ac1a74aab",
   "metadata": {},
   "outputs": [],
   "source": [
    "say = say.reshape(1,25)"
   ]
  },
  {
   "cell_type": "code",
   "execution_count": 74,
   "id": "de3c02bc-2ef9-41ad-807e-018220359c21",
   "metadata": {},
   "outputs": [
    {
     "data": {
      "text/plain": [
       "(1, 25)"
      ]
     },
     "execution_count": 74,
     "metadata": {},
     "output_type": "execute_result"
    }
   ],
   "source": [
    "np.shape(say)"
   ]
  },
  {
   "cell_type": "code",
   "execution_count": 75,
   "id": "86d7c7c8-7738-454d-8e26-d11913921754",
   "metadata": {},
   "outputs": [
    {
     "data": {
      "text/plain": [
       "array([4.93904], dtype=float32)"
      ]
     },
     "execution_count": 75,
     "metadata": {},
     "output_type": "execute_result"
    }
   ],
   "source": [
    "xgb.predict(say)"
   ]
  },
  {
   "cell_type": "code",
   "execution_count": 77,
   "id": "468de057-8c93-457c-91a5-828191625bab",
   "metadata": {},
   "outputs": [
    {
     "data": {
      "text/plain": [
       "2.302585092994046"
      ]
     },
     "execution_count": 77,
     "metadata": {},
     "output_type": "execute_result"
    }
   ],
   "source": [
    "y_test[0]"
   ]
  },
  {
   "cell_type": "code",
   "execution_count": null,
   "id": "cdfc6ee9-e15a-4720-bf34-6d3c5e921b65",
   "metadata": {},
   "outputs": [],
   "source": [
    "t"
   ]
  },
  {
   "cell_type": "code",
   "execution_count": 68,
   "id": "7945fa84-0736-45dd-93ea-95d6db7a5431",
   "metadata": {},
   "outputs": [
    {
     "data": {
      "text/plain": [
       "(25,)"
      ]
     },
     "execution_count": 68,
     "metadata": {},
     "output_type": "execute_result"
    }
   ],
   "source": [
    "np.shape(o[0])"
   ]
  },
  {
   "cell_type": "code",
   "execution_count": 59,
   "id": "584b4026-87a6-4079-9560-740ac6b5ecea",
   "metadata": {},
   "outputs": [
    {
     "ename": "XGBoostError",
     "evalue": "[02:17:34] ../src/predictor/cpu_predictor.cc:341: Check failed: m->NumColumns() == model.learner_model_param->num_feature (1 vs. 25) : Number of columns in data must equal to trained model.\nStack trace:\n  [bt] (0) /home/gebruiker/.local/lib/python3.8/site-packages/xgboost/lib/libxgboost.so(+0x21eca9) [0x7f077b837ca9]\n  [bt] (1) /home/gebruiker/.local/lib/python3.8/site-packages/xgboost/lib/libxgboost.so(+0x23676a) [0x7f077b84f76a]\n  [bt] (2) /home/gebruiker/.local/lib/python3.8/site-packages/xgboost/lib/libxgboost.so(+0x237b79) [0x7f077b850b79]\n  [bt] (3) /home/gebruiker/.local/lib/python3.8/site-packages/xgboost/lib/libxgboost.so(+0x189a5d) [0x7f077b7a2a5d]\n  [bt] (4) /home/gebruiker/.local/lib/python3.8/site-packages/xgboost/lib/libxgboost.so(+0x1bf530) [0x7f077b7d8530]\n  [bt] (5) /home/gebruiker/.local/lib/python3.8/site-packages/xgboost/lib/libxgboost.so(+0xb5749) [0x7f077b6ce749]\n  [bt] (6) /home/gebruiker/.local/lib/python3.8/site-packages/xgboost/lib/libxgboost.so(XGBoosterPredictFromDense+0x28d) [0x7f077b6b452d]\n  [bt] (7) /lib/x86_64-linux-gnu/libffi.so.7(+0x6ff5) [0x7f080ec87ff5]\n  [bt] (8) /lib/x86_64-linux-gnu/libffi.so.7(+0x640a) [0x7f080ec8740a]\n\n",
     "output_type": "error",
     "traceback": [
      "\u001b[0;31m---------------------------------------------------------------------------\u001b[0m",
      "\u001b[0;31mXGBoostError\u001b[0m                              Traceback (most recent call last)",
      "\u001b[0;32m<ipython-input-59-59277a121b67>\u001b[0m in \u001b[0;36m<module>\u001b[0;34m\u001b[0m\n\u001b[0;32m----> 1\u001b[0;31m \u001b[0mxgb\u001b[0m\u001b[0;34m.\u001b[0m\u001b[0mpredict\u001b[0m\u001b[0;34m(\u001b[0m\u001b[0mo\u001b[0m\u001b[0;34m[\u001b[0m\u001b[0;36m0\u001b[0m\u001b[0;34m]\u001b[0m\u001b[0;34m)\u001b[0m\u001b[0;34m\u001b[0m\u001b[0;34m\u001b[0m\u001b[0m\n\u001b[0m",
      "\u001b[0;32m~/.local/lib/python3.8/site-packages/xgboost/sklearn.py\u001b[0m in \u001b[0;36mpredict\u001b[0;34m(self, X, output_margin, ntree_limit, validate_features, base_margin, iteration_range)\u001b[0m\n\u001b[1;32m    879\u001b[0m         \u001b[0;32mif\u001b[0m \u001b[0mself\u001b[0m\u001b[0;34m.\u001b[0m\u001b[0m_can_use_inplace_predict\u001b[0m\u001b[0;34m(\u001b[0m\u001b[0;34m)\u001b[0m\u001b[0;34m:\u001b[0m\u001b[0;34m\u001b[0m\u001b[0;34m\u001b[0m\u001b[0m\n\u001b[1;32m    880\u001b[0m             \u001b[0;32mtry\u001b[0m\u001b[0;34m:\u001b[0m\u001b[0;34m\u001b[0m\u001b[0;34m\u001b[0m\u001b[0m\n\u001b[0;32m--> 881\u001b[0;31m                 predts = self.get_booster().inplace_predict(\n\u001b[0m\u001b[1;32m    882\u001b[0m                     \u001b[0mdata\u001b[0m\u001b[0;34m=\u001b[0m\u001b[0mX\u001b[0m\u001b[0;34m,\u001b[0m\u001b[0;34m\u001b[0m\u001b[0;34m\u001b[0m\u001b[0m\n\u001b[1;32m    883\u001b[0m                     \u001b[0miteration_range\u001b[0m\u001b[0;34m=\u001b[0m\u001b[0miteration_range\u001b[0m\u001b[0;34m,\u001b[0m\u001b[0;34m\u001b[0m\u001b[0;34m\u001b[0m\u001b[0m\n",
      "\u001b[0;32m~/.local/lib/python3.8/site-packages/xgboost/core.py\u001b[0m in \u001b[0;36minplace_predict\u001b[0;34m(self, data, iteration_range, predict_type, missing, validate_features, base_margin, strict_shape)\u001b[0m\n\u001b[1;32m   2038\u001b[0m             \u001b[0;32mfrom\u001b[0m \u001b[0;34m.\u001b[0m\u001b[0mdata\u001b[0m \u001b[0;32mimport\u001b[0m \u001b[0m_ensure_np_dtype\u001b[0m\u001b[0;34m\u001b[0m\u001b[0;34m\u001b[0m\u001b[0m\n\u001b[1;32m   2039\u001b[0m             \u001b[0mdata\u001b[0m\u001b[0;34m,\u001b[0m \u001b[0m_\u001b[0m \u001b[0;34m=\u001b[0m \u001b[0m_ensure_np_dtype\u001b[0m\u001b[0;34m(\u001b[0m\u001b[0mdata\u001b[0m\u001b[0;34m,\u001b[0m \u001b[0mdata\u001b[0m\u001b[0;34m.\u001b[0m\u001b[0mdtype\u001b[0m\u001b[0;34m)\u001b[0m\u001b[0;34m\u001b[0m\u001b[0;34m\u001b[0m\u001b[0m\n\u001b[0;32m-> 2040\u001b[0;31m             _check_call(\n\u001b[0m\u001b[1;32m   2041\u001b[0m                 _LIB.XGBoosterPredictFromDense(\n\u001b[1;32m   2042\u001b[0m                     \u001b[0mself\u001b[0m\u001b[0;34m.\u001b[0m\u001b[0mhandle\u001b[0m\u001b[0;34m,\u001b[0m\u001b[0;34m\u001b[0m\u001b[0;34m\u001b[0m\u001b[0m\n",
      "\u001b[0;32m~/.local/lib/python3.8/site-packages/xgboost/core.py\u001b[0m in \u001b[0;36m_check_call\u001b[0;34m(ret)\u001b[0m\n\u001b[1;32m    216\u001b[0m     \"\"\"\n\u001b[1;32m    217\u001b[0m     \u001b[0;32mif\u001b[0m \u001b[0mret\u001b[0m \u001b[0;34m!=\u001b[0m \u001b[0;36m0\u001b[0m\u001b[0;34m:\u001b[0m\u001b[0;34m\u001b[0m\u001b[0;34m\u001b[0m\u001b[0m\n\u001b[0;32m--> 218\u001b[0;31m         \u001b[0;32mraise\u001b[0m \u001b[0mXGBoostError\u001b[0m\u001b[0;34m(\u001b[0m\u001b[0mpy_str\u001b[0m\u001b[0;34m(\u001b[0m\u001b[0m_LIB\u001b[0m\u001b[0;34m.\u001b[0m\u001b[0mXGBGetLastError\u001b[0m\u001b[0;34m(\u001b[0m\u001b[0;34m)\u001b[0m\u001b[0;34m)\u001b[0m\u001b[0;34m)\u001b[0m\u001b[0;34m\u001b[0m\u001b[0;34m\u001b[0m\u001b[0m\n\u001b[0m\u001b[1;32m    219\u001b[0m \u001b[0;34m\u001b[0m\u001b[0m\n\u001b[1;32m    220\u001b[0m \u001b[0;34m\u001b[0m\u001b[0m\n",
      "\u001b[0;31mXGBoostError\u001b[0m: [02:17:34] ../src/predictor/cpu_predictor.cc:341: Check failed: m->NumColumns() == model.learner_model_param->num_feature (1 vs. 25) : Number of columns in data must equal to trained model.\nStack trace:\n  [bt] (0) /home/gebruiker/.local/lib/python3.8/site-packages/xgboost/lib/libxgboost.so(+0x21eca9) [0x7f077b837ca9]\n  [bt] (1) /home/gebruiker/.local/lib/python3.8/site-packages/xgboost/lib/libxgboost.so(+0x23676a) [0x7f077b84f76a]\n  [bt] (2) /home/gebruiker/.local/lib/python3.8/site-packages/xgboost/lib/libxgboost.so(+0x237b79) [0x7f077b850b79]\n  [bt] (3) /home/gebruiker/.local/lib/python3.8/site-packages/xgboost/lib/libxgboost.so(+0x189a5d) [0x7f077b7a2a5d]\n  [bt] (4) /home/gebruiker/.local/lib/python3.8/site-packages/xgboost/lib/libxgboost.so(+0x1bf530) [0x7f077b7d8530]\n  [bt] (5) /home/gebruiker/.local/lib/python3.8/site-packages/xgboost/lib/libxgboost.so(+0xb5749) [0x7f077b6ce749]\n  [bt] (6) /home/gebruiker/.local/lib/python3.8/site-packages/xgboost/lib/libxgboost.so(XGBoosterPredictFromDense+0x28d) [0x7f077b6b452d]\n  [bt] (7) /lib/x86_64-linux-gnu/libffi.so.7(+0x6ff5) [0x7f080ec87ff5]\n  [bt] (8) /lib/x86_64-linux-gnu/libffi.so.7(+0x640a) [0x7f080ec8740a]\n\n"
     ]
    }
   ],
   "source": [
    "xgb.predict(o[0])"
   ]
  },
  {
   "cell_type": "code",
   "execution_count": null,
   "id": "d3be9c4e-da77-4264-9833-3facf05d1b59",
   "metadata": {},
   "outputs": [],
   "source": [
    "a = model.transform(test)"
   ]
  },
  {
   "cell_type": "code",
   "execution_count": null,
   "id": "2eb8b87c-3d76-4435-8821-af303782c236",
   "metadata": {},
   "outputs": [],
   "source": [
    "xgb.predict(model.transform(test))"
   ]
  },
  {
   "cell_type": "markdown",
   "id": "e862d644-4757-4ea6-9b5a-45f935fd8e69",
   "metadata": {},
   "source": [
    "## XGboost"
   ]
  },
  {
   "cell_type": "code",
   "execution_count": 25,
   "id": "8048238c-cfb7-422a-a96c-f654f56175a5",
   "metadata": {},
   "outputs": [
    {
     "name": "stdout",
     "output_type": "stream",
     "text": [
      "in timestamp of lags\n",
      "in timestamp of lags\n",
      "in timestamp of lags\n",
      "in timestamp of lags\n",
      "in timestamp of lags\n",
      "in timestamp of lags\n"
     ]
    }
   ],
   "source": [
    "train = out_data[out_data['transaction_date'].dt.month < 7].reset_index(drop=True) # from feb to june\n",
    "test = out_data[out_data['transaction_date'].dt.month == 7].reset_index(drop=True) # test july\n",
    "model = generate_pipeline()\n",
    "model.fit(train)\n",
    "transformed_train = model.transform(train)\n",
    "transformed_test = model.transform(test)\n",
    "# should the data be transformed after each loop?\n",
    "\n",
    "# history = [x for x in transformed_train]\n",
    "# trainY = train['amount_n26_currency']\n",
    "# testY = test['amount_n26_currency']\n",
    "    "
   ]
  },
  {
   "cell_type": "code",
   "execution_count": 36,
   "id": "f905bbdf-f305-4f0a-ae21-4dec75209b5f",
   "metadata": {},
   "outputs": [],
   "source": [
    "history = [x for x in transformed_train]"
   ]
  },
  {
   "cell_type": "code",
   "execution_count": 38,
   "id": "1b16da93-c60e-4f5a-b084-5916a88b82ac",
   "metadata": {},
   "outputs": [
    {
     "data": {
      "text/plain": [
       "list"
      ]
     },
     "execution_count": 38,
     "metadata": {},
     "output_type": "execute_result"
    }
   ],
   "source": [
    "# list of ararys"
   ]
  },
  {
   "cell_type": "code",
   "execution_count": 40,
   "id": "50b0f9c5-dcee-4ab9-946b-eb52aedeb336",
   "metadata": {},
   "outputs": [],
   "source": [
    "transformed_train[0] = transformed_test[0]"
   ]
  },
  {
   "cell_type": "code",
   "execution_count": 48,
   "id": "75b29346-c635-4175-a54e-2361ed3df396",
   "metadata": {},
   "outputs": [
    {
     "data": {
      "text/plain": [
       "array([[4, 26, 1, ..., 0.0, 0.0, 0.0],\n",
       "       [0, 5, 1, ..., 0.0, 0.0, 0.0],\n",
       "       [0, 5, 1, ..., 0.0, 0.0, 0.0],\n",
       "       ...,\n",
       "       [1, 26, 28, ..., 3.0, 63.0, 1160.0],\n",
       "       [1, 26, 28, ..., 3.0, 63.0, 1160.0],\n",
       "       [3, 26, 30, ..., 3.0, 58.0, 1160.0]], dtype=object)"
      ]
     },
     "execution_count": 48,
     "metadata": {},
     "output_type": "execute_result"
    }
   ],
   "source": [
    "transformed_train"
   ]
  },
  {
   "cell_type": "code",
   "execution_count": 47,
   "id": "a9ad62a6-1f53-4a73-8f6f-376d680719c4",
   "metadata": {},
   "outputs": [
    {
     "data": {
      "text/plain": [
       "array([[4, 26, 1, ..., 0.0, 0.0, 0.0],\n",
       "       [0, 5, 1, ..., 0.0, 0.0, 0.0],\n",
       "       [0, 5, 1, ..., 0.0, 0.0, 0.0],\n",
       "       ...,\n",
       "       [1, 26, 28, ..., 3.0, 63.0, 1160.0],\n",
       "       [3, 26, 30, ..., 3.0, 58.0, 1160.0],\n",
       "       [4, 26, 1, ..., 0.0, 0.0, 0.0]], dtype=object)"
      ]
     },
     "execution_count": 47,
     "metadata": {},
     "output_type": "execute_result"
    }
   ],
   "source": []
  },
  {
   "cell_type": "code",
   "execution_count": 46,
   "id": "d160dcb7-d166-4e4a-830c-bfa1b9a15f9f",
   "metadata": {},
   "outputs": [
    {
     "data": {
      "text/plain": [
       "<function ndarray.ravel>"
      ]
     },
     "execution_count": 46,
     "metadata": {},
     "output_type": "execute_result"
    }
   ],
   "source": [
    "a"
   ]
  },
  {
   "cell_type": "code",
   "execution_count": null,
   "id": "2ef4ebb2-2e56-4954-8c4c-b4bfe0d0841c",
   "metadata": {},
   "outputs": [],
   "source": [
    "# the data pipeline needs to be created only once."
   ]
  },
  {
   "cell_type": "code",
   "execution_count": 22,
   "id": "0c9f4cb3-aa2c-47b6-b0e9-6d3aa2e9d9f7",
   "metadata": {},
   "outputs": [],
   "source": [
    "def xgb_forecast(transformed_train,trainy,transformed_test):\n",
    "   \n",
    "\n",
    "    # split data set \n",
    "#     train = out_data[out_data['transaction_date'].dt.month < 7].reset_index(drop=True) # from feb to june\n",
    "#     test = out_data[out_data['transaction_date'].dt.month == 7].reset_index(drop=True) # test july\n",
    "    \n",
    "\n",
    "    \n",
    "    \n",
    "    \n",
    "    # since the transformed train and test data is already\n",
    "    # and array we do not have to convert that into an array\n",
    "\n",
    "    xgb = XGBRegressor(objective='reg:squarederror', n_estimators=1000)\n",
    "    xgb.fit(transformed_train,trainy)\n",
    "    yhat = xgb.predict(transformed_test)\n",
    "\n",
    "    return yhat"
   ]
  },
  {
   "cell_type": "code",
   "execution_count": 23,
   "id": "7df39e42-34ed-493e-84f1-35e6ffea2c2d",
   "metadata": {},
   "outputs": [],
   "source": [
    "def walk_forward_validation(out_data):\n",
    "    predictions = list()\n",
    "    \n",
    "    train = out_data[out_data['transaction_date'].dt.month < 7].reset_index(drop=True) # from feb to june\n",
    "    test = out_data[out_data['transaction_date'].dt.month == 7].reset_index(drop=True) # test july\n",
    "    model = generate_pipeline()\n",
    "    model.fit(train)\n",
    "    transformed_train = model.transform(train)\n",
    "    transformed_test = model.transform(test)\n",
    "    # should the data be transformed after each loop?\n",
    "    \n",
    "    history = [x for x in transformed_train]\n",
    "    trainY = np.log1p(train['amount_n26_currency'])\n",
    "    testY = np.log1p(test['amount_n26_currency'])\n",
    "    history = transformed_train\n",
    "    for i in range(len(transformed_test)):\n",
    "        test, testy = transformed_test[i],testY[i]\n",
    "        test = test.reshape(1,len(test))\n",
    "        yhat = xgb_forecast(history ,trainY,test)\n",
    "        predictions.append(yhat)\n",
    "#         history.append(test)\n",
    "        history = np.vstack( [ history , transformed_test[i]] )\n",
    "        trainY.append(pd.Series(testY[i]),ignore_index= True)\n",
    "        print(testy, yhat)\n",
    "        \n",
    "        \n",
    "    "
   ]
  },
  {
   "cell_type": "code",
   "execution_count": null,
   "id": "cbd71754-b565-4aa5-8f06-23fce6bfca2d",
   "metadata": {},
   "outputs": [],
   "source": []
  },
  {
   "cell_type": "code",
   "execution_count": null,
   "id": "49b30a3e-c510-4991-ab9b-44f21270e06f",
   "metadata": {},
   "outputs": [],
   "source": []
  },
  {
   "cell_type": "code",
   "execution_count": 24,
   "id": "550ad4a1-0fac-430e-a1d9-3ff3ce5b3541",
   "metadata": {},
   "outputs": [
    {
     "name": "stdout",
     "output_type": "stream",
     "text": [
      "in timestamp of lags\n",
      "in timestamp of lags\n",
      "in timestamp of lags\n",
      "in timestamp of lags\n",
      "in timestamp of lags\n",
      "in timestamp of lags\n"
     ]
    },
    {
     "ename": "KeyboardInterrupt",
     "evalue": "",
     "output_type": "error",
     "traceback": [
      "\u001b[0;31m---------------------------------------------------------------------------\u001b[0m",
      "\u001b[0;31mKeyboardInterrupt\u001b[0m                         Traceback (most recent call last)",
      "\u001b[0;32m<ipython-input-24-927af2b027a2>\u001b[0m in \u001b[0;36m<module>\u001b[0;34m\u001b[0m\n\u001b[0;32m----> 1\u001b[0;31m \u001b[0mwalk_forward_validation\u001b[0m\u001b[0;34m(\u001b[0m\u001b[0mout_data\u001b[0m\u001b[0;34m)\u001b[0m\u001b[0;34m\u001b[0m\u001b[0;34m\u001b[0m\u001b[0m\n\u001b[0m\u001b[1;32m      2\u001b[0m \u001b[0;34m\u001b[0m\u001b[0m\n",
      "\u001b[0;32m<ipython-input-23-eb04a3418a02>\u001b[0m in \u001b[0;36mwalk_forward_validation\u001b[0;34m(out_data)\u001b[0m\n\u001b[1;32m     16\u001b[0m     \u001b[0;32mfor\u001b[0m \u001b[0mi\u001b[0m \u001b[0;32min\u001b[0m \u001b[0mrange\u001b[0m\u001b[0;34m(\u001b[0m\u001b[0mlen\u001b[0m\u001b[0;34m(\u001b[0m\u001b[0mtransformed_test\u001b[0m\u001b[0;34m)\u001b[0m\u001b[0;34m)\u001b[0m\u001b[0;34m:\u001b[0m\u001b[0;34m\u001b[0m\u001b[0;34m\u001b[0m\u001b[0m\n\u001b[1;32m     17\u001b[0m         \u001b[0mtest\u001b[0m\u001b[0;34m,\u001b[0m \u001b[0mtesty\u001b[0m \u001b[0;34m=\u001b[0m \u001b[0mtransformed_test\u001b[0m\u001b[0;34m[\u001b[0m\u001b[0mi\u001b[0m\u001b[0;34m]\u001b[0m\u001b[0;34m,\u001b[0m\u001b[0mtestY\u001b[0m\u001b[0;34m[\u001b[0m\u001b[0mi\u001b[0m\u001b[0;34m]\u001b[0m\u001b[0;34m\u001b[0m\u001b[0;34m\u001b[0m\u001b[0m\n\u001b[0;32m---> 18\u001b[0;31m         \u001b[0myhat\u001b[0m \u001b[0;34m=\u001b[0m \u001b[0mxgb_forecast\u001b[0m\u001b[0;34m(\u001b[0m\u001b[0mhistory\u001b[0m \u001b[0;34m,\u001b[0m\u001b[0mtrainY\u001b[0m\u001b[0;34m,\u001b[0m\u001b[0mtest\u001b[0m\u001b[0;34m)\u001b[0m\u001b[0;34m\u001b[0m\u001b[0;34m\u001b[0m\u001b[0m\n\u001b[0m\u001b[1;32m     19\u001b[0m         \u001b[0mpredictions\u001b[0m\u001b[0;34m.\u001b[0m\u001b[0mappend\u001b[0m\u001b[0;34m(\u001b[0m\u001b[0myhat\u001b[0m\u001b[0;34m)\u001b[0m\u001b[0;34m\u001b[0m\u001b[0;34m\u001b[0m\u001b[0m\n\u001b[1;32m     20\u001b[0m         \u001b[0mhistory\u001b[0m\u001b[0;34m.\u001b[0m\u001b[0mappend\u001b[0m\u001b[0;34m(\u001b[0m\u001b[0mtest\u001b[0m\u001b[0;34m[\u001b[0m\u001b[0mi\u001b[0m\u001b[0;34m]\u001b[0m\u001b[0;34m)\u001b[0m\u001b[0;34m\u001b[0m\u001b[0;34m\u001b[0m\u001b[0m\n",
      "\u001b[0;32m<ipython-input-22-0a91483bb8a8>\u001b[0m in \u001b[0;36mxgb_forecast\u001b[0;34m(transformed_train, trainy, transformed_test)\u001b[0m\n\u001b[1;32m     14\u001b[0m \u001b[0;34m\u001b[0m\u001b[0m\n\u001b[1;32m     15\u001b[0m     \u001b[0mxgb\u001b[0m \u001b[0;34m=\u001b[0m \u001b[0mXGBRegressor\u001b[0m\u001b[0;34m(\u001b[0m\u001b[0mobjective\u001b[0m\u001b[0;34m=\u001b[0m\u001b[0;34m'reg:squarederror'\u001b[0m\u001b[0;34m,\u001b[0m \u001b[0mn_estimators\u001b[0m\u001b[0;34m=\u001b[0m\u001b[0;36m1000\u001b[0m\u001b[0;34m)\u001b[0m\u001b[0;34m\u001b[0m\u001b[0;34m\u001b[0m\u001b[0m\n\u001b[0;32m---> 16\u001b[0;31m     \u001b[0mxgb\u001b[0m\u001b[0;34m.\u001b[0m\u001b[0mfit\u001b[0m\u001b[0;34m(\u001b[0m\u001b[0mtransformed_train\u001b[0m\u001b[0;34m,\u001b[0m\u001b[0mtrainy\u001b[0m\u001b[0;34m)\u001b[0m\u001b[0;34m\u001b[0m\u001b[0;34m\u001b[0m\u001b[0m\n\u001b[0m\u001b[1;32m     17\u001b[0m     \u001b[0myhat\u001b[0m \u001b[0;34m=\u001b[0m \u001b[0mxgb\u001b[0m\u001b[0;34m.\u001b[0m\u001b[0mpredict\u001b[0m\u001b[0;34m(\u001b[0m\u001b[0mtransformed_test\u001b[0m\u001b[0;34m)\u001b[0m\u001b[0;34m\u001b[0m\u001b[0;34m\u001b[0m\u001b[0m\n\u001b[1;32m     18\u001b[0m \u001b[0;34m\u001b[0m\u001b[0m\n",
      "\u001b[0;32m~/.local/lib/python3.8/site-packages/xgboost/core.py\u001b[0m in \u001b[0;36minner_f\u001b[0;34m(*args, **kwargs)\u001b[0m\n\u001b[1;32m    504\u001b[0m         \u001b[0;32mfor\u001b[0m \u001b[0mk\u001b[0m\u001b[0;34m,\u001b[0m \u001b[0marg\u001b[0m \u001b[0;32min\u001b[0m \u001b[0mzip\u001b[0m\u001b[0;34m(\u001b[0m\u001b[0msig\u001b[0m\u001b[0;34m.\u001b[0m\u001b[0mparameters\u001b[0m\u001b[0;34m,\u001b[0m \u001b[0margs\u001b[0m\u001b[0;34m)\u001b[0m\u001b[0;34m:\u001b[0m\u001b[0;34m\u001b[0m\u001b[0;34m\u001b[0m\u001b[0m\n\u001b[1;32m    505\u001b[0m             \u001b[0mkwargs\u001b[0m\u001b[0;34m[\u001b[0m\u001b[0mk\u001b[0m\u001b[0;34m]\u001b[0m \u001b[0;34m=\u001b[0m \u001b[0marg\u001b[0m\u001b[0;34m\u001b[0m\u001b[0;34m\u001b[0m\u001b[0m\n\u001b[0;32m--> 506\u001b[0;31m         \u001b[0;32mreturn\u001b[0m \u001b[0mf\u001b[0m\u001b[0;34m(\u001b[0m\u001b[0;34m**\u001b[0m\u001b[0mkwargs\u001b[0m\u001b[0;34m)\u001b[0m\u001b[0;34m\u001b[0m\u001b[0;34m\u001b[0m\u001b[0m\n\u001b[0m\u001b[1;32m    507\u001b[0m \u001b[0;34m\u001b[0m\u001b[0m\n\u001b[1;32m    508\u001b[0m     \u001b[0;32mreturn\u001b[0m \u001b[0minner_f\u001b[0m\u001b[0;34m\u001b[0m\u001b[0;34m\u001b[0m\u001b[0m\n",
      "\u001b[0;32m~/.local/lib/python3.8/site-packages/xgboost/sklearn.py\u001b[0m in \u001b[0;36mfit\u001b[0;34m(self, X, y, sample_weight, base_margin, eval_set, eval_metric, early_stopping_rounds, verbose, xgb_model, sample_weight_eval_set, base_margin_eval_set, feature_weights, callbacks)\u001b[0m\n\u001b[1;32m    787\u001b[0m \u001b[0;34m\u001b[0m\u001b[0m\n\u001b[1;32m    788\u001b[0m         \u001b[0mmodel\u001b[0m\u001b[0;34m,\u001b[0m \u001b[0mfeval\u001b[0m\u001b[0;34m,\u001b[0m \u001b[0mparams\u001b[0m \u001b[0;34m=\u001b[0m \u001b[0mself\u001b[0m\u001b[0;34m.\u001b[0m\u001b[0m_configure_fit\u001b[0m\u001b[0;34m(\u001b[0m\u001b[0mxgb_model\u001b[0m\u001b[0;34m,\u001b[0m \u001b[0meval_metric\u001b[0m\u001b[0;34m,\u001b[0m \u001b[0mparams\u001b[0m\u001b[0;34m)\u001b[0m\u001b[0;34m\u001b[0m\u001b[0;34m\u001b[0m\u001b[0m\n\u001b[0;32m--> 789\u001b[0;31m         self._Booster = train(\n\u001b[0m\u001b[1;32m    790\u001b[0m             \u001b[0mparams\u001b[0m\u001b[0;34m,\u001b[0m\u001b[0;34m\u001b[0m\u001b[0;34m\u001b[0m\u001b[0m\n\u001b[1;32m    791\u001b[0m             \u001b[0mtrain_dmatrix\u001b[0m\u001b[0;34m,\u001b[0m\u001b[0;34m\u001b[0m\u001b[0;34m\u001b[0m\u001b[0m\n",
      "\u001b[0;32m~/.local/lib/python3.8/site-packages/xgboost/training.py\u001b[0m in \u001b[0;36mtrain\u001b[0;34m(params, dtrain, num_boost_round, evals, obj, feval, maximize, early_stopping_rounds, evals_result, verbose_eval, xgb_model, callbacks)\u001b[0m\n\u001b[1;32m    186\u001b[0m     \u001b[0mBooster\u001b[0m \u001b[0;34m:\u001b[0m \u001b[0ma\u001b[0m \u001b[0mtrained\u001b[0m \u001b[0mbooster\u001b[0m \u001b[0mmodel\u001b[0m\u001b[0;34m\u001b[0m\u001b[0;34m\u001b[0m\u001b[0m\n\u001b[1;32m    187\u001b[0m     \"\"\"\n\u001b[0;32m--> 188\u001b[0;31m     bst = _train_internal(params, dtrain,\n\u001b[0m\u001b[1;32m    189\u001b[0m                           \u001b[0mnum_boost_round\u001b[0m\u001b[0;34m=\u001b[0m\u001b[0mnum_boost_round\u001b[0m\u001b[0;34m,\u001b[0m\u001b[0;34m\u001b[0m\u001b[0;34m\u001b[0m\u001b[0m\n\u001b[1;32m    190\u001b[0m                           \u001b[0mevals\u001b[0m\u001b[0;34m=\u001b[0m\u001b[0mevals\u001b[0m\u001b[0;34m,\u001b[0m\u001b[0;34m\u001b[0m\u001b[0;34m\u001b[0m\u001b[0m\n",
      "\u001b[0;32m~/.local/lib/python3.8/site-packages/xgboost/training.py\u001b[0m in \u001b[0;36m_train_internal\u001b[0;34m(params, dtrain, num_boost_round, evals, obj, feval, xgb_model, callbacks, evals_result, maximize, verbose_eval, early_stopping_rounds)\u001b[0m\n\u001b[1;32m     79\u001b[0m         \u001b[0;32mif\u001b[0m \u001b[0mcallbacks\u001b[0m\u001b[0;34m.\u001b[0m\u001b[0mbefore_iteration\u001b[0m\u001b[0;34m(\u001b[0m\u001b[0mbst\u001b[0m\u001b[0;34m,\u001b[0m \u001b[0mi\u001b[0m\u001b[0;34m,\u001b[0m \u001b[0mdtrain\u001b[0m\u001b[0;34m,\u001b[0m \u001b[0mevals\u001b[0m\u001b[0;34m)\u001b[0m\u001b[0;34m:\u001b[0m\u001b[0;34m\u001b[0m\u001b[0;34m\u001b[0m\u001b[0m\n\u001b[1;32m     80\u001b[0m             \u001b[0;32mbreak\u001b[0m\u001b[0;34m\u001b[0m\u001b[0;34m\u001b[0m\u001b[0m\n\u001b[0;32m---> 81\u001b[0;31m         \u001b[0mbst\u001b[0m\u001b[0;34m.\u001b[0m\u001b[0mupdate\u001b[0m\u001b[0;34m(\u001b[0m\u001b[0mdtrain\u001b[0m\u001b[0;34m,\u001b[0m \u001b[0mi\u001b[0m\u001b[0;34m,\u001b[0m \u001b[0mobj\u001b[0m\u001b[0;34m)\u001b[0m\u001b[0;34m\u001b[0m\u001b[0;34m\u001b[0m\u001b[0m\n\u001b[0m\u001b[1;32m     82\u001b[0m         \u001b[0;32mif\u001b[0m \u001b[0mcallbacks\u001b[0m\u001b[0;34m.\u001b[0m\u001b[0mafter_iteration\u001b[0m\u001b[0;34m(\u001b[0m\u001b[0mbst\u001b[0m\u001b[0;34m,\u001b[0m \u001b[0mi\u001b[0m\u001b[0;34m,\u001b[0m \u001b[0mdtrain\u001b[0m\u001b[0;34m,\u001b[0m \u001b[0mevals\u001b[0m\u001b[0;34m)\u001b[0m\u001b[0;34m:\u001b[0m\u001b[0;34m\u001b[0m\u001b[0;34m\u001b[0m\u001b[0m\n\u001b[1;32m     83\u001b[0m             \u001b[0;32mbreak\u001b[0m\u001b[0;34m\u001b[0m\u001b[0;34m\u001b[0m\u001b[0m\n",
      "\u001b[0;32m~/.local/lib/python3.8/site-packages/xgboost/core.py\u001b[0m in \u001b[0;36mupdate\u001b[0;34m(self, dtrain, iteration, fobj)\u001b[0m\n\u001b[1;32m   1678\u001b[0m \u001b[0;34m\u001b[0m\u001b[0m\n\u001b[1;32m   1679\u001b[0m         \u001b[0;32mif\u001b[0m \u001b[0mfobj\u001b[0m \u001b[0;32mis\u001b[0m \u001b[0;32mNone\u001b[0m\u001b[0;34m:\u001b[0m\u001b[0;34m\u001b[0m\u001b[0;34m\u001b[0m\u001b[0m\n\u001b[0;32m-> 1680\u001b[0;31m             _check_call(_LIB.XGBoosterUpdateOneIter(self.handle,\n\u001b[0m\u001b[1;32m   1681\u001b[0m                                                     \u001b[0mctypes\u001b[0m\u001b[0;34m.\u001b[0m\u001b[0mc_int\u001b[0m\u001b[0;34m(\u001b[0m\u001b[0miteration\u001b[0m\u001b[0;34m)\u001b[0m\u001b[0;34m,\u001b[0m\u001b[0;34m\u001b[0m\u001b[0;34m\u001b[0m\u001b[0m\n\u001b[1;32m   1682\u001b[0m                                                     dtrain.handle))\n",
      "\u001b[0;31mKeyboardInterrupt\u001b[0m: "
     ]
    }
   ],
   "source": [
    "walk_forward_validation(out_data)\n",
    "\n"
   ]
  },
  {
   "cell_type": "code",
   "execution_count": null,
   "id": "1a5dd70e-2ad1-4c4c-96da-ae8e2de93cfb",
   "metadata": {},
   "outputs": [],
   "source": [
    "walk_forward_validation(transformed_train,y_train,transformed_test,y_test)"
   ]
  },
  {
   "cell_type": "code",
   "execution_count": null,
   "id": "5c4a3189-b840-4166-9b41-49dc1869debc",
   "metadata": {},
   "outputs": [],
   "source": [
    "len(train)"
   ]
  },
  {
   "cell_type": "code",
   "execution_count": null,
   "id": "b8e34944-44ad-409f-be83-f1d3c65982c9",
   "metadata": {},
   "outputs": [],
   "source": []
  }
 ],
 "metadata": {
  "kernelspec": {
   "display_name": "Python 3",
   "language": "python",
   "name": "python3"
  },
  "language_info": {
   "codemirror_mode": {
    "name": "ipython",
    "version": 3
   },
   "file_extension": ".py",
   "mimetype": "text/x-python",
   "name": "python",
   "nbconvert_exporter": "python",
   "pygments_lexer": "ipython3",
   "version": "3.8.10"
  }
 },
 "nbformat": 4,
 "nbformat_minor": 5
}
